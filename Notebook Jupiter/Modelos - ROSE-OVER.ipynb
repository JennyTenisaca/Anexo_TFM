{
 "cells": [
  {
   "cell_type": "markdown",
   "metadata": {
    "id": "HhcI63_fjYZk"
   },
   "source": [
    "# MODELOS DE MACHINE LEARNING\n"
   ]
  },
  {
   "cell_type": "markdown",
   "metadata": {},
   "source": [
    "**Autor: Jenny Marisol Tenisaca Moposita**"
   ]
  },
  {
   "cell_type": "markdown",
   "metadata": {
    "id": "v2aw_vV0kxbk"
   },
   "source": [
    "**Importar librerias**"
   ]
  },
  {
   "cell_type": "code",
   "execution_count": 1,
   "metadata": {
    "executionInfo": {
     "elapsed": 193,
     "status": "ok",
     "timestamp": 1639278334562,
     "user": {
      "displayName": "Jenny Marisol Tenisaca",
      "photoUrl": "https://lh3.googleusercontent.com/a-/AOh14GgJNtOj-Zg9zNc7JJc5TPunlhAuYezEy6BIgc28=s64",
      "userId": "09551687578372406932"
     },
     "user_tz": 300
    },
    "id": "DHUlLQAbkNVk"
   },
   "outputs": [],
   "source": [
    "import numpy as np\n",
    "import matplotlib.pyplot as plt\n",
    "import pandas as pd"
   ]
  },
  {
   "cell_type": "markdown",
   "metadata": {
    "id": "GyxoEli2kGvt"
   },
   "source": [
    "## Conjunto con Datos balanceados método ROSE - OVER\n",
    "**Importar el data de entrenamiento (balanceados) y data test**"
   ]
  },
  {
   "cell_type": "markdown",
   "metadata": {
    "id": "uqaoBWjtjnvT"
   },
   "source": [
    "Cargar conjuntos de entrenamiento balanceados (4 métodos) y conjunto de test. (los conjuntos de entrenamiento y test fueron dividimos en 80% y 20%)  "
   ]
  },
  {
   "cell_type": "code",
   "execution_count": 2,
   "metadata": {
    "colab": {
     "base_uri": "https://localhost:8080/",
     "height": 398
    },
    "executionInfo": {
     "elapsed": 205,
     "status": "error",
     "timestamp": 1639278338223,
     "user": {
      "displayName": "Jenny Marisol Tenisaca",
      "photoUrl": "https://lh3.googleusercontent.com/a-/AOh14GgJNtOj-Zg9zNc7JJc5TPunlhAuYezEy6BIgc28=s64",
      "userId": "09551687578372406932"
     },
     "user_tz": 300
    },
    "id": "FWvurKD0lR94",
    "outputId": "89bb3f0e-b070-4c66-81e1-6b339b351318"
   },
   "outputs": [],
   "source": [
    "#data entrenamiento balanceado con ROSE-OVER\n",
    "data_train_bal = pd.read_csv('Data_train_Rose_Over_ c.csv', encoding='latin-1',sep=';')\n",
    "# 80% de la data completa "
   ]
  },
  {
   "cell_type": "code",
   "execution_count": 3,
   "metadata": {},
   "outputs": [],
   "source": [
    "#data test\n",
    "data_test = pd.read_csv('Data_test.csv',sep=';')\n",
    "# 20% de la data completa "
   ]
  },
  {
   "cell_type": "code",
   "execution_count": 5,
   "metadata": {},
   "outputs": [],
   "source": [
    "X_train=data_train_bal.iloc[:,1:23].values\n",
    "y_train=data_train_bal.iloc[:,0].values\n",
    "X_test=data_test.iloc[:,1:23].values\n",
    "y_test=data_test.iloc[:,0].values"
   ]
  },
  {
   "cell_type": "markdown",
   "metadata": {},
   "source": [
    "## Ajustar el clasificador Random Forest en el Conjunto de Entrenamiento"
   ]
  },
  {
   "cell_type": "code",
   "execution_count": 11,
   "metadata": {},
   "outputs": [
    {
     "name": "stdout",
     "output_type": "stream",
     "text": [
      "Scores for each fold are: [0.9958159  0.99565358 0.99578333 0.99565358 0.99607525]\n",
      "Average score: 0.9958\n"
     ]
    }
   ],
   "source": [
    "#Validación cruzada (datos)\n",
    "from sklearn.model_selection import KFold, cross_val_score\n",
    "from sklearn.ensemble import RandomForestClassifier\n",
    "kf =KFold(n_splits=5, shuffle=True, random_state=42)\n",
    "score = cross_val_score(RandomForestClassifier(n_estimators = 100, n_jobs=2, criterion = \"entropy\", random_state = 123), X_train, y_train, cv= kf, scoring=\"accuracy\")\n",
    "print(f'Scores for each fold are: {score}')\n",
    "print(f'Average score: {\"{:.4f}\".format(score.mean())}')"
   ]
  },
  {
   "cell_type": "code",
   "execution_count": 12,
   "metadata": {},
   "outputs": [],
   "source": [
    "#Validación cruzada (gráfico y datos)\n",
    "def graficar_Accu_scores(estimator, X_train, y_train,X_test,y_test,nparts=5,jobs=None):\n",
    "    kf = KFold(n_splits=nparts,shuffle=True, random_state=42)\n",
    "    fig,axes = plt.subplots(figsize=(7, 3))\n",
    "    axes.set_title(\"Acc/Nro. Fold\")\n",
    "    axes.set_xlabel(\"Nro. Fold\")\n",
    "    axes.set_ylabel(\"Acc\")    \n",
    "    train_scores = cross_val_score(estimator, X_train, y_train, cv = kf, n_jobs=jobs,scoring=\"accuracy\")\n",
    "    test_scores = cross_val_score(estimator, X_test,y_test, cv = kf, n_jobs=jobs,scoring=\"accuracy\")        \n",
    "    train_sizes = range(1,nparts+1,1)    \n",
    "    axes.grid()    \n",
    "    axes.plot(train_sizes, train_scores, 'o-', color=\"r\",label=\"Datos Entrenamiento\")\n",
    "    axes.plot(train_sizes, test_scores, 'o-', color=\"g\",label=\"Validacion Cruzada\")\n",
    "    axes.legend(loc=\"best\")\n",
    "    return train_scores"
   ]
  },
  {
   "cell_type": "code",
   "execution_count": 13,
   "metadata": {},
   "outputs": [
    {
     "data": {
      "text/plain": [
       "array([0.9958159 , 0.99565358, 0.99578333, 0.99565358, 0.99607525])"
      ]
     },
     "execution_count": 13,
     "metadata": {},
     "output_type": "execute_result"
    },
    {
     "data": {
      "image/png": "[encoded data removed]",
      "text/plain": [
       "<Figure size 504x216 with 1 Axes>"
      ]
     },
     "metadata": {
      "needs_background": "light"
     },
     "output_type": "display_data"
    }
   ],
   "source": [
    "#Validación cruzada (gráfico y datos)\n",
    "graficar_Accu_scores(clas_rndforest,X_train,y_train,X_test,y_test,nparts=5,jobs=2)"
   ]
  },
  {
   "cell_type": "code",
   "execution_count": 6,
   "metadata": {},
   "outputs": [
    {
     "data": {
      "text/plain": [
       "RandomForestClassifier(criterion='entropy', n_jobs=2, random_state=123)"
      ]
     },
     "execution_count": 6,
     "metadata": {},
     "output_type": "execute_result"
    }
   ],
   "source": [
    "from sklearn.ensemble import RandomForestClassifier\n",
    "clas_rndforest = RandomForestClassifier(n_estimators = 100, n_jobs=2, criterion = \"entropy\", random_state = 123)\n",
    "clas_rndforest.fit(X_train, y_train)"
   ]
  },
  {
   "cell_type": "markdown",
   "metadata": {},
   "source": [
    "### Predicción resultados"
   ]
  },
  {
   "cell_type": "code",
   "execution_count": 8,
   "metadata": {},
   "outputs": [],
   "source": [
    "y_pred  = clas_rndforest.predict(X_test)"
   ]
  },
  {
   "cell_type": "code",
   "execution_count": 9,
   "metadata": {},
   "outputs": [
    {
     "data": {
      "text/plain": [
       "array([[19246,     3],\n",
       "       [   52,  7123]], dtype=int64)"
      ]
     },
     "execution_count": 9,
     "metadata": {},
     "output_type": "execute_result"
    }
   ],
   "source": [
    "##matriz de confusión\n",
    "from sklearn.metrics import confusion_matrix\n",
    "cm = confusion_matrix(y_test, y_pred)\n",
    "cm"
   ]
  },
  {
   "cell_type": "code",
   "execution_count": 14,
   "metadata": {},
   "outputs": [
    {
     "data": {
      "image/png": "[encoded data removed]",
      "text/plain": [
       "<Figure size 432x288 with 1 Axes>"
      ]
     },
     "metadata": {
      "needs_background": "light"
     },
     "output_type": "display_data"
    }
   ],
   "source": [
    "#Curvas ROC\n",
    "import sklearn.metrics as metrics\n",
    "# calcular fpr y tpr para todos los thresholds de la clasificación\n",
    "probs = clas_rndforest.predict_proba(X_test)\n",
    "preds = probs[:,1]\n",
    "fpr, tpr, threshold = metrics.roc_curve(y_test, preds)\n",
    "roc_auc = metrics.auc(fpr, tpr)\n",
    "\n",
    "# method I: plt\n",
    "import matplotlib.pyplot as plt\n",
    "plt.title('Receiver Operating Characteristic')\n",
    "plt.plot(fpr, tpr, 'b', label = 'AUC = %0.4f' % roc_auc)\n",
    "plt.legend(loc = 'lower right')\n",
    "plt.plot([0, 1], [0, 1],'r--')\n",
    "plt.xlim([0, 1])\n",
    "plt.ylim([0, 1])\n",
    "plt.ylabel('True Positive Rate')\n",
    "plt.xlabel('False Positive Rate')\n",
    "plt.show()"
   ]
  },
  {
   "cell_type": "markdown",
   "metadata": {},
   "source": [
    "#### Importancia de las variables del modelo"
   ]
  },
  {
   "cell_type": "code",
   "execution_count": 7,
   "metadata": {},
   "outputs": [
    {
     "name": "stdout",
     "output_type": "stream",
     "text": [
      "[0.57036956 0.21868609 0.00975929 0.00491006 0.0049352  0.00532468\n",
      " 0.00458165 0.0101714  0.00706396 0.00668208 0.00476163 0.00280003\n",
      " 0.00490815 0.00972466 0.02339658 0.06877393 0.02034547 0.00392972\n",
      " 0.00230475 0.00434321 0.00579757 0.00643033]\n",
      "Importancia de las variables del modelo\n",
      "-------------------------------------------\n",
      "-------------------------------------------\n"
     ]
    },
    {
     "data": {
      "text/html": [
       "<div>\n",
       "<style scoped>\n",
       "    .dataframe tbody tr th:only-of-type {\n",
       "        vertical-align: middle;\n",
       "    }\n",
       "\n",
       "    .dataframe tbody tr th {\n",
       "        vertical-align: top;\n",
       "    }\n",
       "\n",
       "    .dataframe thead th {\n",
       "        text-align: right;\n",
       "    }\n",
       "</style>\n",
       "<table border=\"1\" class=\"dataframe\">\n",
       "  <thead>\n",
       "    <tr style=\"text-align: right;\">\n",
       "      <th></th>\n",
       "      <th>variable</th>\n",
       "      <th>importancia</th>\n",
       "    </tr>\n",
       "  </thead>\n",
       "  <tbody>\n",
       "    <tr>\n",
       "      <th>0</th>\n",
       "      <td>Promedio_tiempo_reincidencia</td>\n",
       "      <td>0.570370</td>\n",
       "    </tr>\n",
       "    <tr>\n",
       "      <th>1</th>\n",
       "      <td>Prom_Tiempo_sentencia_f</td>\n",
       "      <td>0.218686</td>\n",
       "    </tr>\n",
       "    <tr>\n",
       "      <th>15</th>\n",
       "      <td>Sit_Actual_f_No_ingreso_CPL</td>\n",
       "      <td>0.068774</td>\n",
       "    </tr>\n",
       "    <tr>\n",
       "      <th>14</th>\n",
       "      <td>Sit_Actual_f_Libre</td>\n",
       "      <td>0.023397</td>\n",
       "    </tr>\n",
       "    <tr>\n",
       "      <th>16</th>\n",
       "      <td>Sit_Actual_f_Presente</td>\n",
       "      <td>0.020345</td>\n",
       "    </tr>\n",
       "    <tr>\n",
       "      <th>7</th>\n",
       "      <td>Ultimo_Delito_f_Delito_CP</td>\n",
       "      <td>0.010171</td>\n",
       "    </tr>\n",
       "    <tr>\n",
       "      <th>2</th>\n",
       "      <td>sexo_f</td>\n",
       "      <td>0.009759</td>\n",
       "    </tr>\n",
       "    <tr>\n",
       "      <th>13</th>\n",
       "      <td>Trabaja_f1</td>\n",
       "      <td>0.009725</td>\n",
       "    </tr>\n",
       "    <tr>\n",
       "      <th>8</th>\n",
       "      <td>Ultimo_Delito_f_Delito_CV</td>\n",
       "      <td>0.007064</td>\n",
       "    </tr>\n",
       "    <tr>\n",
       "      <th>9</th>\n",
       "      <td>Ultimo_Delito_f_Delito_Drogas</td>\n",
       "      <td>0.006682</td>\n",
       "    </tr>\n",
       "    <tr>\n",
       "      <th>21</th>\n",
       "      <td>Nivel_Instrucción_UD_f_Primaria</td>\n",
       "      <td>0.006430</td>\n",
       "    </tr>\n",
       "    <tr>\n",
       "      <th>20</th>\n",
       "      <td>Nivel_Instrucción_UD_f_Bachillerato</td>\n",
       "      <td>0.005798</td>\n",
       "    </tr>\n",
       "    <tr>\n",
       "      <th>5</th>\n",
       "      <td>grupo_edad_UD_De_30_39</td>\n",
       "      <td>0.005325</td>\n",
       "    </tr>\n",
       "    <tr>\n",
       "      <th>4</th>\n",
       "      <td>grupo_edad_UD_De_24_29</td>\n",
       "      <td>0.004935</td>\n",
       "    </tr>\n",
       "    <tr>\n",
       "      <th>3</th>\n",
       "      <td>grupo_edad_UD_De_18_23</td>\n",
       "      <td>0.004910</td>\n",
       "    </tr>\n",
       "    <tr>\n",
       "      <th>12</th>\n",
       "      <td>Region_UD_f_Sierra</td>\n",
       "      <td>0.004908</td>\n",
       "    </tr>\n",
       "    <tr>\n",
       "      <th>10</th>\n",
       "      <td>Region_UD_f_Costa</td>\n",
       "      <td>0.004762</td>\n",
       "    </tr>\n",
       "    <tr>\n",
       "      <th>6</th>\n",
       "      <td>grupo_edad_UD_De_40_50</td>\n",
       "      <td>0.004582</td>\n",
       "    </tr>\n",
       "    <tr>\n",
       "      <th>19</th>\n",
       "      <td>Estado_civil_UD_f_Soltero</td>\n",
       "      <td>0.004343</td>\n",
       "    </tr>\n",
       "    <tr>\n",
       "      <th>17</th>\n",
       "      <td>Estado_civil_UD_f_Casado</td>\n",
       "      <td>0.003930</td>\n",
       "    </tr>\n",
       "    <tr>\n",
       "      <th>11</th>\n",
       "      <td>Region_UD_f_Oriente</td>\n",
       "      <td>0.002800</td>\n",
       "    </tr>\n",
       "    <tr>\n",
       "      <th>18</th>\n",
       "      <td>Estado_civil_UD_f_Divorciado</td>\n",
       "      <td>0.002305</td>\n",
       "    </tr>\n",
       "  </tbody>\n",
       "</table>\n",
       "</div>"
      ],
      "text/plain": [
       "                               variable  importancia\n",
       "0          Promedio_tiempo_reincidencia     0.570370\n",
       "1               Prom_Tiempo_sentencia_f     0.218686\n",
       "15          Sit_Actual_f_No_ingreso_CPL     0.068774\n",
       "14                   Sit_Actual_f_Libre     0.023397\n",
       "16                Sit_Actual_f_Presente     0.020345\n",
       "7             Ultimo_Delito_f_Delito_CP     0.010171\n",
       "2                                sexo_f     0.009759\n",
       "13                           Trabaja_f1     0.009725\n",
       "8             Ultimo_Delito_f_Delito_CV     0.007064\n",
       "9         Ultimo_Delito_f_Delito_Drogas     0.006682\n",
       "21      Nivel_Instrucción_UD_f_Primaria     0.006430\n",
       "20  Nivel_Instrucción_UD_f_Bachillerato     0.005798\n",
       "5                grupo_edad_UD_De_30_39     0.005325\n",
       "4                grupo_edad_UD_De_24_29     0.004935\n",
       "3                grupo_edad_UD_De_18_23     0.004910\n",
       "12                   Region_UD_f_Sierra     0.004908\n",
       "10                    Region_UD_f_Costa     0.004762\n",
       "6                grupo_edad_UD_De_40_50     0.004582\n",
       "19            Estado_civil_UD_f_Soltero     0.004343\n",
       "17             Estado_civil_UD_f_Casado     0.003930\n",
       "11                  Region_UD_f_Oriente     0.002800\n",
       "18         Estado_civil_UD_f_Divorciado     0.002305"
      ]
     },
     "execution_count": 7,
     "metadata": {},
     "output_type": "execute_result"
    }
   ],
   "source": [
    "from sklearn.ensemble import ExtraTreesClassifier\n",
    "#Para obtener la importancia de cada variable se inicializa el  ExtraTreesClassifier\n",
    "X_train=data_train_bal.iloc[:,1:23]\n",
    "y_train=data_train_bal.iloc[:,0]\n",
    "\n",
    "model_RF_imp = ExtraTreesClassifier(n_estimators = 100, n_jobs=2, criterion = \"gini\", random_state = 123)\n",
    "\n",
    "#Ajustar el modelo\n",
    "model_RF_imp.fit(X_train, y_train)\n",
    "\n",
    "#Imprimir la importancia de cada variable\n",
    "print(clas_rndforest.feature_importances_)\n",
    "\n",
    "#Imprimir junto a los nombres de las variables \n",
    "list(clas_rndforest.feature_importances_)\n",
    "import pandas as pd\n",
    "importancia_predictores = pd.DataFrame(\n",
    "                            {'variable': X_train.columns,\n",
    "                             'importancia': clas_rndforest.feature_importances_}\n",
    "                            )\n",
    "print(\"Importancia de las variables del modelo\")\n",
    "print(\"-------------------------------------------\")\n",
    "print(\"-------------------------------------------\")\n",
    "importancia_predictores.sort_values('importancia', ascending=False)\n"
   ]
  },
  {
   "cell_type": "markdown",
   "metadata": {},
   "source": [
    "## Ajustar el clasificador SVM en el Conjunto de Entrenamiento"
   ]
  },
  {
   "cell_type": "code",
   "execution_count": 18,
   "metadata": {},
   "outputs": [
    {
     "name": "stdout",
     "output_type": "stream",
     "text": [
      "Scores for each fold are: [0.97985794 0.98089523 0.97992215 0.97963023 0.98060331]\n",
      "Average score: 0.9802\n"
     ]
    }
   ],
   "source": [
    "#validación cruzada (datos)\n",
    "from sklearn.model_selection import KFold, cross_val_score\n",
    "from sklearn.svm import SVC\n",
    "kf =KFold(n_splits=5, shuffle=True, random_state=42)\n",
    "score = cross_val_score(SVC(kernel='rbf',random_state=123), X_train, y_train, cv= kf, scoring=\"accuracy\")\n",
    "print(f'Scores for each fold are: {score}')\n",
    "print(f'Average score: {\"{:.4f}\".format(score.mean())}')"
   ]
  },
  {
   "cell_type": "code",
   "execution_count": 19,
   "metadata": {},
   "outputs": [
    {
     "data": {
      "text/plain": [
       "array([0.97985794, 0.98089523, 0.97992215, 0.97963023, 0.98060331])"
      ]
     },
     "execution_count": 19,
     "metadata": {},
     "output_type": "execute_result"
    },
    {
     "data": {
      "image/png": "[encoded data removed]",
      "text/plain": [
       "<Figure size 504x216 with 1 Axes>"
      ]
     },
     "metadata": {
      "needs_background": "light"
     },
     "output_type": "display_data"
    }
   ],
   "source": [
    "#Validación cruzada (gráfico y datos)\n",
    "graficar_Accu_scores(class_svm,X_train,y_train,X_test,y_test,nparts=5,jobs=2)"
   ]
  },
  {
   "cell_type": "code",
   "execution_count": 15,
   "metadata": {},
   "outputs": [
    {
     "data": {
      "text/plain": [
       "SVC(probability=True, random_state=123)"
      ]
     },
     "execution_count": 15,
     "metadata": {},
     "output_type": "execute_result"
    }
   ],
   "source": [
    "# Fitting SVM to the Training set using Kernel as rbf.\n",
    "from sklearn.svm import SVC\n",
    "class_svm = SVC(kernel='rbf',probability=True,random_state=123)\n",
    "class_svm.fit(X_train, y_train)"
   ]
  },
  {
   "cell_type": "code",
   "execution_count": 16,
   "metadata": {},
   "outputs": [],
   "source": [
    "# Predecir los resultados\n",
    "y_pred_svm = class_svm.predict(X_test)"
   ]
  },
  {
   "cell_type": "code",
   "execution_count": 17,
   "metadata": {},
   "outputs": [
    {
     "data": {
      "text/plain": [
       "array([[19249,     0],\n",
       "       [  251,  6924]], dtype=int64)"
      ]
     },
     "execution_count": 17,
     "metadata": {},
     "output_type": "execute_result"
    }
   ],
   "source": [
    "# Matriz de confusión\n",
    "from sklearn.metrics import confusion_matrix\n",
    "cm_svm = confusion_matrix(y_test, y_pred_svm)\n",
    "cm_svm # display"
   ]
  },
  {
   "cell_type": "code",
   "execution_count": 20,
   "metadata": {},
   "outputs": [
    {
     "data": {
      "image/png": "[encoded data removed]",
      "text/plain": [
       "<Figure size 432x288 with 1 Axes>"
      ]
     },
     "metadata": {
      "needs_background": "light"
     },
     "output_type": "display_data"
    }
   ],
   "source": [
    "#Curvas ROC\n",
    "import sklearn.metrics as metrics\n",
    "# calcular fpr y tpr para todos los thresholds de la clasificación\n",
    "probs = class_svm.predict_proba(X_test)\n",
    "preds = probs[:,1]\n",
    "fpr, tpr, threshold = metrics.roc_curve(y_test, preds)\n",
    "roc_auc = metrics.auc(fpr, tpr)\n",
    "\n",
    "# method I: plt\n",
    "import matplotlib.pyplot as plt\n",
    "plt.title('Receiver Operating Characteristic')\n",
    "plt.plot(fpr, tpr, 'b', label = 'AUC = %0.4f' % roc_auc)\n",
    "plt.legend(loc = 'lower right')\n",
    "plt.plot([0, 1], [0, 1],'r--')\n",
    "plt.xlim([0, 1])\n",
    "plt.ylim([0, 1])\n",
    "plt.ylabel('True Positive Rate')\n",
    "plt.xlabel('False Positive Rate')\n",
    "plt.show()"
   ]
  },
  {
   "cell_type": "markdown",
   "metadata": {},
   "source": [
    "## Ajustar el clasificador NAIVE BAYES en el Conjunto de Entrenamiento"
   ]
  },
  {
   "cell_type": "code",
   "execution_count": 24,
   "metadata": {},
   "outputs": [
    {
     "name": "stdout",
     "output_type": "stream",
     "text": [
      "Scores for each fold are: [0.99503746 0.99484269 0.99510217 0.99523192 0.99519948]\n",
      "Average score: 0.9951\n"
     ]
    }
   ],
   "source": [
    "#validación cruzada (datos)\n",
    "from sklearn.model_selection import KFold, cross_val_score\n",
    "from sklearn.naive_bayes import GaussianNB\n",
    "kf =KFold(n_splits=5, shuffle=True, random_state=42)\n",
    "score = cross_val_score(GaussianNB(), X_train, y_train, cv= kf, scoring=\"accuracy\")\n",
    "print(f'Scores for each fold are: {score}')\n",
    "print(f'Average score: {\"{:.4f}\".format(score.mean())}')"
   ]
  },
  {
   "cell_type": "code",
   "execution_count": 25,
   "metadata": {},
   "outputs": [
    {
     "data": {
      "text/plain": [
       "array([0.99503746, 0.99484269, 0.99510217, 0.99523192, 0.99519948])"
      ]
     },
     "execution_count": 25,
     "metadata": {},
     "output_type": "execute_result"
    },
    {
     "data": {
      "image/png": "[encoded data removed]",
      "text/plain": [
       "<Figure size 504x216 with 1 Axes>"
      ]
     },
     "metadata": {
      "needs_background": "light"
     },
     "output_type": "display_data"
    }
   ],
   "source": [
    "#Validación cruzada\n",
    "graficar_Accu_scores(class_nb,X_train,y_train,X_test,y_test,nparts=5,jobs=2)"
   ]
  },
  {
   "cell_type": "code",
   "execution_count": 21,
   "metadata": {},
   "outputs": [
    {
     "data": {
      "text/plain": [
       "GaussianNB()"
      ]
     },
     "execution_count": 21,
     "metadata": {},
     "output_type": "execute_result"
    }
   ],
   "source": [
    "from sklearn.naive_bayes import GaussianNB\n",
    "class_nb = GaussianNB()\n",
    "class_nb.fit(X_train, y_train)"
   ]
  },
  {
   "cell_type": "code",
   "execution_count": 22,
   "metadata": {},
   "outputs": [],
   "source": [
    "# Predecir los resultados\n",
    "y_pred_nb  = class_nb.predict(X_test)"
   ]
  },
  {
   "cell_type": "code",
   "execution_count": 23,
   "metadata": {},
   "outputs": [
    {
     "data": {
      "text/plain": [
       "array([[  130, 19119],\n",
       "       [    0,  7175]], dtype=int64)"
      ]
     },
     "execution_count": 23,
     "metadata": {},
     "output_type": "execute_result"
    }
   ],
   "source": [
    "# Matriz de confusión\n",
    "from sklearn.metrics import confusion_matrix\n",
    "cm_nb = confusion_matrix(y_test, y_pred_nb)\n",
    "cm_nb # display"
   ]
  },
  {
   "cell_type": "code",
   "execution_count": 26,
   "metadata": {},
   "outputs": [
    {
     "data": {
      "image/png": "[encoded data removed]",
      "text/plain": [
       "<Figure size 432x288 with 1 Axes>"
      ]
     },
     "metadata": {
      "needs_background": "light"
     },
     "output_type": "display_data"
    }
   ],
   "source": [
    "#Curvas ROC\n",
    "import sklearn.metrics as metrics\n",
    "# calcular fpr y tpr para todos los thresholds de la clasificación\n",
    "probs = class_nb.predict_proba(X_test)\n",
    "preds = probs[:,1]\n",
    "fpr, tpr, threshold = metrics.roc_curve(y_test, preds)\n",
    "roc_auc1 = metrics.auc(fpr, tpr)\n",
    "\n",
    "# method I: plt\n",
    "import matplotlib.pyplot as plt\n",
    "plt.title('Receiver Operating Characteristic')\n",
    "plt.plot(fpr, tpr, 'b', label = 'AUC = %0.4f' % roc_auc1)\n",
    "plt.legend(loc = 'lower right')\n",
    "plt.plot([0, 1], [0, 1],'r--')\n",
    "plt.xlim([0, 1])\n",
    "plt.ylim([0, 1])\n",
    "plt.ylabel('True Positive Rate')\n",
    "plt.xlabel('False Positive Rate')\n",
    "plt.show()"
   ]
  },
  {
   "cell_type": "markdown",
   "metadata": {},
   "source": [
    "## Ajustar el clasificador REDES NEURONALES en el Conjunto de Entrenamiento"
   ]
  },
  {
   "cell_type": "code",
   "execution_count": 33,
   "metadata": {},
   "outputs": [
    {
     "name": "stderr",
     "output_type": "stream",
     "text": [
      "C:\\Users\\jenny\\AppData\\Local\\Temp/ipykernel_15164/2278733859.py:22: DeprecationWarning: KerasClassifier is deprecated, use Sci-Keras (https://github.com/adriangb/scikeras) instead.\n",
      "  class_RN = KerasClassifier(build_fn=built_class_RN, batch_size = 10, epochs = 100)\n"
     ]
    }
   ],
   "source": [
    "#validación cruzada (datos)\n",
    "import keras\n",
    "from keras.wrappers.scikit_learn import KerasClassifier\n",
    "from keras.models import Sequential\n",
    "from keras.layers import Dense\n",
    "from sklearn.model_selection import KFold, cross_val_score\n",
    "\n",
    "def built_class_RN():\n",
    "    #Inicializar la RNA\n",
    "    class_RN = Sequential()\n",
    "    #Añadir las capas de entrada y primera capa oculta\n",
    "    class_RN.add(Dense(units = 12, kernel_initializer = \"uniform\", activation = \"relu\", input_dim = 23))\n",
    "    #Añadir la segunda capa oculta\n",
    "    class_RN.add(Dense(units = 10, kernel_initializer = \"uniform\",  activation = \"relu\"))\n",
    "    #Añadir la capa de salida\n",
    "    class_RN.add(Dense(units = 1, kernel_initializer = \"uniform\",  activation = \"sigmoid\"))\n",
    "    #Compilar la RNA\n",
    "    class_RN.compile(optimizer = \"adam\", loss = \"binary_crossentropy\", metrics = [\"accuracy\"])\n",
    "    return class_RN\n",
    "\n",
    "#Ajustar la RNA al Conjunto de Entrenamiento\n",
    "class_RN = KerasClassifier(build_fn=built_class_RN, batch_size = 10, epochs = 100)\n",
    "kf =KFold(n_splits=5, shuffle=True, random_state=42)\n",
    "Accuracy = cross_val_score(class_RN, X_train, y_train, cv= kf, n_jobs=-1)\n"
   ]
  },
  {
   "cell_type": "code",
   "execution_count": 34,
   "metadata": {},
   "outputs": [
    {
     "name": "stdout",
     "output_type": "stream",
     "text": [
      "Scores for each fold are: [0.9903993  0.9899773  0.99108011 0.9894259  0.98929614]\n",
      "Average score: 0.9900\n"
     ]
    }
   ],
   "source": [
    "print(f'Scores for each fold are: {Accuracy}')\n",
    "print(f'Average score: {\"{:.4f}\".format(Accuracy.mean())}')"
   ]
  },
  {
   "cell_type": "code",
   "execution_count": 5,
   "metadata": {},
   "outputs": [],
   "source": [
    "import keras\n",
    "from keras.models import Sequential\n",
    "from keras.layers import Dense"
   ]
  },
  {
   "cell_type": "code",
   "execution_count": 6,
   "metadata": {},
   "outputs": [
    {
     "name": "stdout",
     "output_type": "stream",
     "text": [
      "Epoch 1/100\n",
      "15416/15416 [==============================] - 20s 1ms/step - loss: 0.0906 - accuracy: 0.9755\n",
      "Epoch 2/100\n",
      "15416/15416 [==============================] - 19s 1ms/step - loss: 0.0674 - accuracy: 0.9833\n",
      "Epoch 3/100\n",
      "15416/15416 [==============================] - 20s 1ms/step - loss: 0.0652 - accuracy: 0.9841\n",
      "Epoch 4/100\n",
      "15416/15416 [==============================] - 21s 1ms/step - loss: 0.0639 - accuracy: 0.9845\n",
      "Epoch 5/100\n",
      "15416/15416 [==============================] - 19s 1ms/step - loss: 0.0627 - accuracy: 0.9848\n",
      "Epoch 6/100\n",
      "15416/15416 [==============================] - 20s 1ms/step - loss: 0.0624 - accuracy: 0.9848\n",
      "Epoch 7/100\n",
      "15416/15416 [==============================] - 25s 2ms/step - loss: 0.0609 - accuracy: 0.9854\n",
      "Epoch 8/100\n",
      "15416/15416 [==============================] - 23s 2ms/step - loss: 0.0598 - accuracy: 0.9855\n",
      "Epoch 9/100\n",
      "15416/15416 [==============================] - 20s 1ms/step - loss: 0.0594 - accuracy: 0.9857\n",
      "Epoch 10/100\n",
      "15416/15416 [==============================] - 20s 1ms/step - loss: 0.0584 - accuracy: 0.9860\n",
      "Epoch 11/100\n",
      "15416/15416 [==============================] - 21s 1ms/step - loss: 0.0579 - accuracy: 0.9860\n",
      "Epoch 12/100\n",
      "15416/15416 [==============================] - 21s 1ms/step - loss: 0.0572 - accuracy: 0.9864\n",
      "Epoch 13/100\n",
      "15416/15416 [==============================] - 21s 1ms/step - loss: 0.0567 - accuracy: 0.9863\n",
      "Epoch 14/100\n",
      "15416/15416 [==============================] - 21s 1ms/step - loss: 0.0570 - accuracy: 0.9863\n",
      "Epoch 15/100\n",
      "15416/15416 [==============================] - 21s 1ms/step - loss: 0.0560 - accuracy: 0.9865\n",
      "Epoch 16/100\n",
      "15416/15416 [==============================] - 20s 1ms/step - loss: 0.0558 - accuracy: 0.9866\n",
      "Epoch 17/100\n",
      "15416/15416 [==============================] - 20s 1ms/step - loss: 0.0552 - accuracy: 0.9868\n",
      "Epoch 18/100\n",
      "15416/15416 [==============================] - 19s 1ms/step - loss: 0.0548 - accuracy: 0.9868\n",
      "Epoch 19/100\n",
      "15416/15416 [==============================] - 19s 1ms/step - loss: 0.0541 - accuracy: 0.9871\n",
      "Epoch 20/100\n",
      "15416/15416 [==============================] - 19s 1ms/step - loss: 0.0537 - accuracy: 0.9871 0s - loss: 0.0536 - accuracy: \n",
      "Epoch 21/100\n",
      "15416/15416 [==============================] - 19s 1ms/step - loss: 0.0540 - accuracy: 0.9871\n",
      "Epoch 22/100\n",
      "15416/15416 [==============================] - 18s 1ms/step - loss: 0.0530 - accuracy: 0.9871\n",
      "Epoch 23/100\n",
      "15416/15416 [==============================] - 18s 1ms/step - loss: 0.0513 - accuracy: 0.9876\n",
      "Epoch 24/100\n",
      "15416/15416 [==============================] - 19s 1ms/step - loss: 0.0518 - accuracy: 0.9875\n",
      "Epoch 25/100\n",
      "15416/15416 [==============================] - 19s 1ms/step - loss: 0.0510 - accuracy: 0.9877\n",
      "Epoch 26/100\n",
      "15416/15416 [==============================] - 19s 1ms/step - loss: 0.0509 - accuracy: 0.9879\n",
      "Epoch 27/100\n",
      "15416/15416 [==============================] - 18s 1ms/step - loss: 0.0502 - accuracy: 0.9880\n",
      "Epoch 28/100\n",
      "15416/15416 [==============================] - 19s 1ms/step - loss: 0.0509 - accuracy: 0.9878\n",
      "Epoch 29/100\n",
      "15416/15416 [==============================] - 18s 1ms/step - loss: 0.0507 - accuracy: 0.9879\n",
      "Epoch 30/100\n",
      "15416/15416 [==============================] - 17s 1ms/step - loss: 0.0500 - accuracy: 0.9881\n",
      "Epoch 31/100\n",
      "15416/15416 [==============================] - 17s 1ms/step - loss: 0.0494 - accuracy: 0.9882\n",
      "Epoch 32/100\n",
      "15416/15416 [==============================] - 17s 1ms/step - loss: 0.0486 - accuracy: 0.9885\n",
      "Epoch 33/100\n",
      "15416/15416 [==============================] - 19s 1ms/step - loss: 0.0486 - accuracy: 0.9885\n",
      "Epoch 34/100\n",
      "15416/15416 [==============================] - 20s 1ms/step - loss: 0.0493 - accuracy: 0.9883\n",
      "Epoch 35/100\n",
      "15416/15416 [==============================] - 18s 1ms/step - loss: 0.0480 - accuracy: 0.9886\n",
      "Epoch 36/100\n",
      "15416/15416 [==============================] - 18s 1ms/step - loss: 0.0480 - accuracy: 0.9886\n",
      "Epoch 37/100\n",
      "15416/15416 [==============================] - 19s 1ms/step - loss: 0.0463 - accuracy: 0.9890\n",
      "Epoch 38/100\n",
      "15416/15416 [==============================] - 19s 1ms/step - loss: 0.0472 - accuracy: 0.9888\n",
      "Epoch 39/100\n",
      "15416/15416 [==============================] - 20s 1ms/step - loss: 0.0468 - accuracy: 0.9890\n",
      "Epoch 40/100\n",
      "15416/15416 [==============================] - 32s 2ms/step - loss: 0.0469 - accuracy: 0.9889\n",
      "Epoch 41/100\n",
      "15416/15416 [==============================] - 27s 2ms/step - loss: 0.0463 - accuracy: 0.9892\n",
      "Epoch 42/100\n",
      "15416/15416 [==============================] - 17s 1ms/step - loss: 0.0454 - accuracy: 0.9893\n",
      "Epoch 43/100\n",
      "15416/15416 [==============================] - 18s 1ms/step - loss: 0.0454 - accuracy: 0.9893\n",
      "Epoch 44/100\n",
      "15416/15416 [==============================] - 19s 1ms/step - loss: 0.0458 - accuracy: 0.9892\n",
      "Epoch 45/100\n",
      "15416/15416 [==============================] - 18s 1ms/step - loss: 0.0460 - accuracy: 0.9891\n",
      "Epoch 46/100\n",
      "15416/15416 [==============================] - 19s 1ms/step - loss: 0.0455 - accuracy: 0.9894\n",
      "Epoch 47/100\n",
      "15416/15416 [==============================] - 19s 1ms/step - loss: 0.0455 - accuracy: 0.9893\n",
      "Epoch 48/100\n",
      "15416/15416 [==============================] - 20s 1ms/step - loss: 0.0447 - accuracy: 0.9894\n",
      "Epoch 49/100\n",
      "15416/15416 [==============================] - 20s 1ms/step - loss: 0.0448 - accuracy: 0.9895\n",
      "Epoch 50/100\n",
      "15416/15416 [==============================] - 19s 1ms/step - loss: 0.0445 - accuracy: 0.9895\n",
      "Epoch 51/100\n",
      "15416/15416 [==============================] - 19s 1ms/step - loss: 0.0441 - accuracy: 0.9897\n",
      "Epoch 52/100\n",
      "15416/15416 [==============================] - 19s 1ms/step - loss: 0.0442 - accuracy: 0.9896\n",
      "Epoch 53/100\n",
      "15416/15416 [==============================] - 17s 1ms/step - loss: 0.0440 - accuracy: 0.9897\n",
      "Epoch 54/100\n",
      "15416/15416 [==============================] - 17s 1ms/step - loss: 0.0434 - accuracy: 0.9899\n",
      "Epoch 55/100\n",
      "15416/15416 [==============================] - 18s 1ms/step - loss: 0.0441 - accuracy: 0.9897\n",
      "Epoch 56/100\n",
      "15416/15416 [==============================] - 17s 1ms/step - loss: 0.0431 - accuracy: 0.9898\n",
      "Epoch 57/100\n",
      "15416/15416 [==============================] - 17s 1ms/step - loss: 0.0438 - accuracy: 0.9897\n",
      "Epoch 58/100\n",
      "15416/15416 [==============================] - 18s 1ms/step - loss: 0.0441 - accuracy: 0.9898\n",
      "Epoch 59/100\n",
      "15416/15416 [==============================] - 17s 1ms/step - loss: 0.0435 - accuracy: 0.9900\n",
      "Epoch 60/100\n",
      "15416/15416 [==============================] - 17s 1ms/step - loss: 0.0431 - accuracy: 0.9899\n",
      "Epoch 61/100\n",
      "15416/15416 [==============================] - 17s 1ms/step - loss: 0.0438 - accuracy: 0.9899\n",
      "Epoch 62/100\n",
      "15416/15416 [==============================] - 17s 1ms/step - loss: 0.0432 - accuracy: 0.9899\n",
      "Epoch 63/100\n",
      "15416/15416 [==============================] - 17s 1ms/step - loss: 0.0430 - accuracy: 0.9901\n",
      "Epoch 64/100\n",
      "15416/15416 [==============================] - 17s 1ms/step - loss: 0.0426 - accuracy: 0.9903\n",
      "Epoch 65/100\n",
      "15416/15416 [==============================] - 17s 1ms/step - loss: 0.0420 - accuracy: 0.9903\n",
      "Epoch 66/100\n",
      "15416/15416 [==============================] - 19s 1ms/step - loss: 0.0429 - accuracy: 0.9901\n",
      "Epoch 67/100\n",
      "15416/15416 [==============================] - 18s 1ms/step - loss: 0.0426 - accuracy: 0.9900\n",
      "Epoch 68/100\n",
      "15416/15416 [==============================] - 18s 1ms/step - loss: 0.0424 - accuracy: 0.9903\n",
      "Epoch 69/100\n",
      "15416/15416 [==============================] - 18s 1ms/step - loss: 0.0420 - accuracy: 0.9903\n",
      "Epoch 70/100\n",
      "15416/15416 [==============================] - 18s 1ms/step - loss: 0.0432 - accuracy: 0.9899\n",
      "Epoch 71/100\n",
      "15416/15416 [==============================] - 18s 1ms/step - loss: 0.0413 - accuracy: 0.9905\n",
      "Epoch 72/100\n",
      "15416/15416 [==============================] - 19s 1ms/step - loss: 0.0416 - accuracy: 0.9902\n",
      "Epoch 73/100\n",
      "15416/15416 [==============================] - 19s 1ms/step - loss: 0.0418 - accuracy: 0.9904\n",
      "Epoch 74/100\n",
      "15416/15416 [==============================] - 17s 1ms/step - loss: 0.0417 - accuracy: 0.9903\n",
      "Epoch 75/100\n",
      "15416/15416 [==============================] - 17s 1ms/step - loss: 0.0413 - accuracy: 0.9903\n",
      "Epoch 76/100\n",
      "15416/15416 [==============================] - 17s 1ms/step - loss: 0.0406 - accuracy: 0.9906\n",
      "Epoch 77/100\n",
      "15416/15416 [==============================] - 19s 1ms/step - loss: 0.0413 - accuracy: 0.9904\n",
      "Epoch 78/100\n",
      "15416/15416 [==============================] - 18s 1ms/step - loss: 0.0411 - accuracy: 0.9905\n",
      "Epoch 79/100\n",
      "15416/15416 [==============================] - 21s 1ms/step - loss: 0.0409 - accuracy: 0.9906\n",
      "Epoch 80/100\n",
      "15416/15416 [==============================] - 19s 1ms/step - loss: 0.0410 - accuracy: 0.9905\n",
      "Epoch 81/100\n",
      "15416/15416 [==============================] - 20s 1ms/step - loss: 0.0404 - accuracy: 0.9906\n",
      "Epoch 82/100\n",
      "15416/15416 [==============================] - 20s 1ms/step - loss: 0.0402 - accuracy: 0.9907\n",
      "Epoch 83/100\n",
      "15416/15416 [==============================] - 19s 1ms/step - loss: 0.0402 - accuracy: 0.9906\n",
      "Epoch 84/100\n",
      "15416/15416 [==============================] - 20s 1ms/step - loss: 0.0403 - accuracy: 0.9908\n",
      "Epoch 85/100\n",
      "15416/15416 [==============================] - 20s 1ms/step - loss: 0.0407 - accuracy: 0.9907\n",
      "Epoch 86/100\n",
      "15416/15416 [==============================] - 18s 1ms/step - loss: 0.0406 - accuracy: 0.9907\n",
      "Epoch 87/100\n",
      "15416/15416 [==============================] - 18s 1ms/step - loss: 0.0402 - accuracy: 0.9907\n",
      "Epoch 88/100\n",
      "15416/15416 [==============================] - 18s 1ms/step - loss: 0.0399 - accuracy: 0.9907\n",
      "Epoch 89/100\n",
      "15416/15416 [==============================] - 17s 1ms/step - loss: 0.0399 - accuracy: 0.9907\n",
      "Epoch 90/100\n",
      "15416/15416 [==============================] - 17s 1ms/step - loss: 0.0401 - accuracy: 0.9907\n",
      "Epoch 91/100\n",
      "15416/15416 [==============================] - 18s 1ms/step - loss: 0.0392 - accuracy: 0.9908\n",
      "Epoch 92/100\n",
      "15416/15416 [==============================] - 17s 1ms/step - loss: 0.0395 - accuracy: 0.9908\n",
      "Epoch 93/100\n",
      "15416/15416 [==============================] - 17s 1ms/step - loss: 0.0392 - accuracy: 0.9908\n",
      "Epoch 94/100\n",
      "15416/15416 [==============================] - 20s 1ms/step - loss: 0.0394 - accuracy: 0.9909\n",
      "Epoch 95/100\n",
      "15416/15416 [==============================] - 19s 1ms/step - loss: 0.0390 - accuracy: 0.9909 0s -\n",
      "Epoch 96/100\n",
      "15416/15416 [==============================] - 18s 1ms/step - loss: 0.0394 - accuracy: 0.9908\n",
      "Epoch 97/100\n",
      "15416/15416 [==============================] - 19s 1ms/step - loss: 0.0393 - accuracy: 0.9910\n",
      "Epoch 98/100\n",
      "15416/15416 [==============================] - 19s 1ms/step - loss: 0.0392 - accuracy: 0.9908\n",
      "Epoch 99/100\n",
      "15416/15416 [==============================] - 19s 1ms/step - loss: 0.0394 - accuracy: 0.9908\n",
      "Epoch 100/100\n",
      "15416/15416 [==============================] - 21s 1ms/step - loss: 0.0389 - accuracy: 0.9910 0s - loss: 0.0387 - \n"
     ]
    },
    {
     "data": {
      "text/plain": [
       "<keras.callbacks.History at 0x275b601c190>"
      ]
     },
     "execution_count": 6,
     "metadata": {},
     "output_type": "execute_result"
    }
   ],
   "source": [
    "#Inicializar la RNA\n",
    "class_RN = Sequential()\n",
    "#Añadir las capas de entrada y primera capa oculta\n",
    "class_RN.add(Dense(units = 12, kernel_initializer = \"uniform\",  \n",
    "                     activation = \"relu\", input_dim = 23))\n",
    "#Añadir la segunda capa oculta\n",
    "class_RN.add(Dense(units = 10, kernel_initializer = \"uniform\",  activation = \"relu\"))\n",
    "#Añadir la capa de salida\n",
    "class_RN.add(Dense(units = 1, kernel_initializer = \"uniform\",  activation = \"sigmoid\"))\n",
    "#Compilar la RNA\n",
    "class_RN.compile(optimizer = \"adam\", loss = \"binary_crossentropy\", metrics = [\"accuracy\"])\n",
    "#Ajustar la RNA al Conjunto de Entrenamiento\n",
    "class_RN.fit(X_train, y_train,  batch_size = 10, epochs = 100)"
   ]
  },
  {
   "cell_type": "code",
   "execution_count": 7,
   "metadata": {},
   "outputs": [
    {
     "name": "stdout",
     "output_type": "stream",
     "text": [
      "826/826 - 1s - loss: 0.0259 - accuracy: 0.9956 - 832ms/epoch - 1ms/step\n",
      "\n",
      "Test Accuracy: 0.9955722093582153\n"
     ]
    }
   ],
   "source": [
    "test_loss, test_acc = class_RN.evaluate(X_test,  y_test, verbose=2)\n",
    "print('\\nTest Accuracy:', test_acc)"
   ]
  },
  {
   "cell_type": "code",
   "execution_count": 8,
   "metadata": {},
   "outputs": [],
   "source": [
    "# Evaluar el modelo y calcular predicciones finales\n",
    "# Predicción de los resultados con el Conjunto de Testing\n",
    "y_pred_rn  = class_RN.predict(X_test)\n",
    "y_pred_rn = (y_pred_rn>0.5)\n"
   ]
  },
  {
   "cell_type": "code",
   "execution_count": 9,
   "metadata": {},
   "outputs": [
    {
     "data": {
      "text/plain": [
       "array([[19243,     6],\n",
       "       [  111,  7064]], dtype=int64)"
      ]
     },
     "execution_count": 9,
     "metadata": {},
     "output_type": "execute_result"
    }
   ],
   "source": [
    "#Elaborar una matriz de confusión\n",
    "from sklearn.metrics import confusion_matrix\n",
    "cm_rn = confusion_matrix(y_test, y_pred_rn)\n",
    "cm_rn"
   ]
  },
  {
   "cell_type": "code",
   "execution_count": 10,
   "metadata": {},
   "outputs": [
    {
     "data": {
      "image/png": "[encoded data removed]",
      "text/plain": [
       "<Figure size 432x288 with 1 Axes>"
      ]
     },
     "metadata": {
      "needs_background": "light"
     },
     "output_type": "display_data"
    }
   ],
   "source": [
    "#Curva ROC\n",
    "from sklearn.metrics import roc_curve, auc\n",
    "import matplotlib.pyplot as plt\n",
    "y_pred_rn_curv = class_RN.predict(X_test).ravel()\n",
    "\n",
    "nn_fpr_keras, nn_tpr_keras, nn_thresholds_keras = roc_curve(y_test, y_pred_rn_curv)\n",
    "auc_keras = auc(nn_fpr_keras, nn_tpr_keras)\n",
    "# method I: plt\n",
    "import matplotlib.pyplot as plt\n",
    "plt.title('Receiver Operating Characteristic')\n",
    "plt.plot(nn_fpr_keras, nn_tpr_keras, 'b', label = 'AUC = %0.4f' % auc_keras)\n",
    "plt.legend(loc = 'lower right')\n",
    "plt.plot([0, 1], [0, 1],'r--')\n",
    "plt.xlim([0, 1])\n",
    "plt.ylim([0, 1])\n",
    "plt.ylabel('True Positive Rate')\n",
    "plt.xlabel('False Positive Rate')\n",
    "plt.show()"
   ]
  }
 ],
 "metadata": {
  "colab": {
   "authorship_tag": "ABX9TyMJUn2/uS+2CUlTfIt4QIIg",
   "collapsed_sections": [],
   "name": "Copia de Modelos.ipynb",
   "provenance": [
    {
     "file_id": "10nHoFKKtgfxuqIONQnIkGNzknNDbXQgz",
     "timestamp": 1639278306948
    }
   ]
  },
  "kernelspec": {
   "display_name": "Python 3 (ipykernel)",
   "language": "python",
   "name": "python3"
  },
  "language_info": {
   "codemirror_mode": {
    "name": "ipython",
    "version": 3
   },
   "file_extension": ".py",
   "mimetype": "text/x-python",
   "name": "python",
   "nbconvert_exporter": "python",
   "pygments_lexer": "ipython3",
   "version": "3.9.7"
  }
 },
 "nbformat": 4,
 "nbformat_minor": 1
}
