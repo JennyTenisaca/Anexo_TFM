{
 "cells": [
  {
   "cell_type": "markdown",
   "metadata": {
    "id": "HhcI63_fjYZk"
   },
   "source": [
    "# MODELOS DE MACHINE LEARNING\n"
   ]
  },
  {
   "cell_type": "markdown",
   "metadata": {},
   "source": [
    "**Autor: Jenny Marisol Tenisaca Moposita**"
   ]
  },
  {
   "cell_type": "markdown",
   "metadata": {
    "id": "v2aw_vV0kxbk"
   },
   "source": [
    "**Importar librerias**"
   ]
  },
  {
   "cell_type": "code",
   "execution_count": 1,
   "metadata": {
    "executionInfo": {
     "elapsed": 193,
     "status": "ok",
     "timestamp": 1639278334562,
     "user": {
      "displayName": "Jenny Marisol Tenisaca",
      "photoUrl": "https://lh3.googleusercontent.com/a-/AOh14GgJNtOj-Zg9zNc7JJc5TPunlhAuYezEy6BIgc28=s64",
      "userId": "09551687578372406932"
     },
     "user_tz": 300
    },
    "id": "DHUlLQAbkNVk"
   },
   "outputs": [],
   "source": [
    "import numpy as np\n",
    "import matplotlib.pyplot as plt\n",
    "import pandas as pd"
   ]
  },
  {
   "cell_type": "markdown",
   "metadata": {
    "id": "GyxoEli2kGvt"
   },
   "source": [
    "## Conjunto con Datos método Sin Balancear\n",
    "**Importar el data de entrenamientos (sin balancear) y data test**"
   ]
  },
  {
   "cell_type": "markdown",
   "metadata": {
    "id": "uqaoBWjtjnvT"
   },
   "source": [
    "Cargar conjuntos de entrenamiento balanceados (4 métodos) y conjunto de test. (los conjuntos de entrenamiento y test fueron dividimos en 80% y 20%)  "
   ]
  },
  {
   "cell_type": "code",
   "execution_count": 3,
   "metadata": {
    "colab": {
     "base_uri": "https://localhost:8080/",
     "height": 398
    },
    "executionInfo": {
     "elapsed": 205,
     "status": "error",
     "timestamp": 1639278338223,
     "user": {
      "displayName": "Jenny Marisol Tenisaca",
      "photoUrl": "https://lh3.googleusercontent.com/a-/AOh14GgJNtOj-Zg9zNc7JJc5TPunlhAuYezEy6BIgc28=s64",
      "userId": "09551687578372406932"
     },
     "user_tz": 300
    },
    "id": "FWvurKD0lR94",
    "outputId": "89bb3f0e-b070-4c66-81e1-6b339b351318"
   },
   "outputs": [],
   "source": [
    "#data entrenamiento balanceado con ROSE-OVER\n",
    "data_train_bal = pd.read_csv('Data_train.csv', encoding='latin-1',sep=';')\n",
    "# 80% sin balancear"
   ]
  },
  {
   "cell_type": "code",
   "execution_count": 4,
   "metadata": {},
   "outputs": [],
   "source": [
    "#data test\n",
    "data_test = pd.read_csv('Data_test.csv',encoding='latin-1',sep=';')\n",
    "# 20% de la data completa "
   ]
  },
  {
   "cell_type": "code",
   "execution_count": 5,
   "metadata": {},
   "outputs": [],
   "source": [
    "X_train=data_train_bal.iloc[:,1:23].values\n",
    "y_train=data_train_bal.iloc[:,0].values\n",
    "X_test=data_test.iloc[:,1:23].values\n",
    "y_test=data_test.iloc[:,0].values"
   ]
  },
  {
   "cell_type": "markdown",
   "metadata": {},
   "source": [
    "## Ajustar el clasificador Random Forest en el Conjunto de Entrenamiento"
   ]
  },
  {
   "cell_type": "code",
   "execution_count": 6,
   "metadata": {},
   "outputs": [
    {
     "name": "stdout",
     "output_type": "stream",
     "text": [
      "Scores for each fold are: [0.7307474  0.72511826 0.73278146 0.73570178 0.72907895]\n",
      "Average score: 0.7307\n"
     ]
    }
   ],
   "source": [
    "#Validación cruzada (datos)\n",
    "from sklearn.model_selection import KFold, cross_val_score\n",
    "from sklearn.ensemble import RandomForestClassifier\n",
    "kf =KFold(n_splits=5, shuffle=True, random_state=42)\n",
    "\n",
    "score = cross_val_score(RandomForestClassifier(n_estimators = 100, n_jobs=2, criterion = \"entropy\", random_state = 123), X_train, y_train, cv= kf, scoring=\"accuracy\")\n",
    "print(f'Scores for each fold are: {score}')\n",
    "print(f'Average score: {\"{:.4f}\".format(score.mean())}')"
   ]
  },
  {
   "cell_type": "code",
   "execution_count": 7,
   "metadata": {},
   "outputs": [],
   "source": [
    "#Validación cruzada (gráfico y datos)\n",
    "def graficar_Accu_scores(estimator, X_train, y_train,X_test,y_test,nparts=5,jobs=None):\n",
    "    kf = KFold(n_splits=nparts,shuffle=True, random_state=42)\n",
    "    fig,axes = plt.subplots(figsize=(7, 3))\n",
    "    axes.set_title(\"Acc/Nro. Fold\")\n",
    "    axes.set_xlabel(\"Nro. Fold\")\n",
    "    axes.set_ylabel(\"Acc\")    \n",
    "    train_scores = cross_val_score(estimator, X_train, y_train, cv = kf, n_jobs=jobs,scoring=\"accuracy\")\n",
    "    test_scores = cross_val_score(estimator, X_test,y_test, cv = kf, n_jobs=jobs,scoring=\"accuracy\")        \n",
    "    train_sizes = range(1,nparts+1,1)    \n",
    "    axes.grid()    \n",
    "    axes.plot(train_sizes, train_scores, 'o-', color=\"r\",label=\"Datos Entrenamiento\")\n",
    "    axes.plot(train_sizes, test_scores, 'o-', color=\"g\",label=\"Validacion Cruzada\")\n",
    "    axes.legend(loc=\"best\")\n",
    "    return train_scores"
   ]
  },
  {
   "cell_type": "code",
   "execution_count": 8,
   "metadata": {},
   "outputs": [
    {
     "data": {
      "text/plain": [
       "RandomForestClassifier(criterion='entropy', n_jobs=2, random_state=123)"
      ]
     },
     "execution_count": 8,
     "metadata": {},
     "output_type": "execute_result"
    }
   ],
   "source": [
    "from sklearn.ensemble import RandomForestClassifier\n",
    "clas_rndforest = RandomForestClassifier(n_estimators = 100, n_jobs=2, criterion = \"entropy\", random_state = 123)\n",
    "clas_rndforest.fit(X_train, y_train)"
   ]
  },
  {
   "cell_type": "code",
   "execution_count": 9,
   "metadata": {},
   "outputs": [
    {
     "data": {
      "text/plain": [
       "array([0.7307474 , 0.72511826, 0.73278146, 0.73570178, 0.72907895])"
      ]
     },
     "execution_count": 9,
     "metadata": {},
     "output_type": "execute_result"
    },
    {
     "data": {
      "image/png": "[encoded data removed]",
      "text/plain": [
       "<Figure size 504x216 with 1 Axes>"
      ]
     },
     "metadata": {
      "needs_background": "light"
     },
     "output_type": "display_data"
    }
   ],
   "source": [
    "#Validación cruzada (gráfico y datos)\n",
    "graficar_Accu_scores(clas_rndforest,X_train,y_train,X_test,y_test,nparts=5,jobs=2)"
   ]
  },
  {
   "cell_type": "markdown",
   "metadata": {},
   "source": [
    "### Predicción resultados"
   ]
  },
  {
   "cell_type": "code",
   "execution_count": 10,
   "metadata": {},
   "outputs": [
    {
     "data": {
      "text/plain": [
       "array([[17087,  2162],\n",
       "       [ 4997,  2178]], dtype=int64)"
      ]
     },
     "metadata": {},
     "output_type": "display_data"
    },
    {
     "name": "stdout",
     "output_type": "stream",
     "text": [
      "              precision    recall  f1-score   support\n",
      "\n",
      "           0       0.77      0.89      0.83     19249\n",
      "           1       0.50      0.30      0.38      7175\n",
      "\n",
      "    accuracy                           0.73     26424\n",
      "   macro avg       0.64      0.60      0.60     26424\n",
      "weighted avg       0.70      0.73      0.71     26424\n",
      "\n"
     ]
    }
   ],
   "source": [
    "y_pred  = clas_rndforest.predict(X_test)\n",
    "##matriz de confusión\n",
    "from sklearn.metrics import confusion_matrix\n",
    "from sklearn.metrics import classification_report\n",
    "display(confusion_matrix(y_test, y_pred))\n",
    "class_report=classification_report(y_test, y_pred)\n",
    "print(class_report)\n"
   ]
  },
  {
   "cell_type": "code",
   "execution_count": 11,
   "metadata": {},
   "outputs": [
    {
     "data": {
      "image/png": "[encoded data removed]",
      "text/plain": [
       "<Figure size 432x288 with 1 Axes>"
      ]
     },
     "metadata": {
      "needs_background": "light"
     },
     "output_type": "display_data"
    }
   ],
   "source": [
    "#Curvas ROC\n",
    "import sklearn.metrics as metrics\n",
    "# calcular fpr y tpr para todos los thresholds de la clasificación\n",
    "probs = clas_rndforest.predict_proba(X_test)\n",
    "preds = probs[:,1]\n",
    "fpr, tpr, threshold = metrics.roc_curve(y_test, preds)\n",
    "roc_auc = metrics.auc(fpr, tpr)\n",
    "\n",
    "# method I: plt\n",
    "import matplotlib.pyplot as plt\n",
    "plt.title('Receiver Operating Characteristic')\n",
    "plt.plot(fpr, tpr, 'b', label = 'AUC = %0.4f' % roc_auc)\n",
    "plt.legend(loc = 'lower right')\n",
    "plt.plot([0, 1], [0, 1],'r--')\n",
    "plt.xlim([0, 1])\n",
    "plt.ylim([0, 1])\n",
    "plt.ylabel('True Positive Rate')\n",
    "plt.xlabel('False Positive Rate')\n",
    "plt.show()"
   ]
  },
  {
   "cell_type": "markdown",
   "metadata": {},
   "source": [
    "## Ajustar el clasificador NAIVE BAYES en el Conjunto de Entrenamiento"
   ]
  },
  {
   "cell_type": "code",
   "execution_count": 12,
   "metadata": {},
   "outputs": [
    {
     "name": "stdout",
     "output_type": "stream",
     "text": [
      "Scores for each fold are: [0.64550615 0.64858089 0.64569536 0.66464828 0.65892426]\n",
      "Average score: 0.6527\n"
     ]
    }
   ],
   "source": [
    "#validación cruzada (datos)\n",
    "from sklearn.model_selection import KFold, cross_val_score\n",
    "from sklearn.naive_bayes import GaussianNB\n",
    "kf =KFold(n_splits=5, shuffle=True, random_state=42)\n",
    "score = cross_val_score(GaussianNB(), X_train, y_train, cv= kf, scoring=\"accuracy\")\n",
    "print(f'Scores for each fold are: {score}')\n",
    "print(f'Average score: {\"{:.4f}\".format(score.mean())}')"
   ]
  },
  {
   "cell_type": "code",
   "execution_count": 6,
   "metadata": {},
   "outputs": [
    {
     "data": {
      "text/plain": [
       "GaussianNB()"
      ]
     },
     "execution_count": 6,
     "metadata": {},
     "output_type": "execute_result"
    }
   ],
   "source": [
    "from sklearn.naive_bayes import GaussianNB\n",
    "class_nb = GaussianNB()\n",
    "class_nb.fit(X_train, y_train)"
   ]
  },
  {
   "cell_type": "code",
   "execution_count": 14,
   "metadata": {},
   "outputs": [
    {
     "data": {
      "text/plain": [
       "array([0.64550615, 0.64858089, 0.64569536, 0.66464828, 0.65892426])"
      ]
     },
     "execution_count": 14,
     "metadata": {},
     "output_type": "execute_result"
    },
    {
     "data": {
      "image/png": "[encoded data removed]",
      "text/plain": [
       "<Figure size 504x216 with 1 Axes>"
      ]
     },
     "metadata": {
      "needs_background": "light"
     },
     "output_type": "display_data"
    }
   ],
   "source": [
    "#Validación cruzada\n",
    "graficar_Accu_scores(class_nb,X_train,y_train,X_test,y_test,nparts=5,jobs=2)"
   ]
  },
  {
   "cell_type": "code",
   "execution_count": 8,
   "metadata": {},
   "outputs": [
    {
     "data": {
      "text/plain": [
       "array([[12742,  6507],\n",
       "       [ 2711,  4464]], dtype=int64)"
      ]
     },
     "metadata": {},
     "output_type": "display_data"
    },
    {
     "name": "stdout",
     "output_type": "stream",
     "text": [
      "              precision    recall  f1-score   support\n",
      "\n",
      "           0       0.82      0.66      0.73     19249\n",
      "           1       0.41      0.62      0.49      7175\n",
      "\n",
      "    accuracy                           0.65     26424\n",
      "   macro avg       0.62      0.64      0.61     26424\n",
      "weighted avg       0.71      0.65      0.67     26424\n",
      "\n"
     ]
    }
   ],
   "source": [
    "# Predecir los resultados\n",
    "y_pred_nb  = class_nb.predict(X_test)\n",
    "# Matriz de confusión\n",
    "from sklearn.metrics import confusion_matrix\n",
    "from sklearn.metrics import classification_report\n",
    "#cm_nb = confusion_matrix(y_test, y_pred_nb)\n",
    "display(confusion_matrix(y_test, y_pred_nb))\n",
    "class_report=classification_report(y_test, y_pred_nb)\n",
    "print(class_report)"
   ]
  },
  {
   "cell_type": "code",
   "execution_count": 16,
   "metadata": {},
   "outputs": [
    {
     "data": {
      "image/png": "[encoded data removed]",
      "text/plain": [
       "<Figure size 432x288 with 1 Axes>"
      ]
     },
     "metadata": {
      "needs_background": "light"
     },
     "output_type": "display_data"
    }
   ],
   "source": [
    "#Curvas ROC\n",
    "import sklearn.metrics as metrics\n",
    "# calcular fpr y tpr para todos los thresholds de la clasificación\n",
    "probs = class_nb.predict_proba(X_test)\n",
    "preds = probs[:,1]\n",
    "fpr, tpr, threshold = metrics.roc_curve(y_test, preds)\n",
    "roc_auc1 = metrics.auc(fpr, tpr)\n",
    "\n",
    "# method I: plt\n",
    "import matplotlib.pyplot as plt\n",
    "plt.title('Receiver Operating Characteristic')\n",
    "plt.plot(fpr, tpr, 'b', label = 'AUC = %0.4f' % roc_auc1)\n",
    "plt.legend(loc = 'lower right')\n",
    "plt.plot([0, 1], [0, 1],'r--')\n",
    "plt.xlim([0, 1])\n",
    "plt.ylim([0, 1])\n",
    "plt.ylabel('True Positive Rate')\n",
    "plt.xlabel('False Positive Rate')\n",
    "plt.show()"
   ]
  },
  {
   "cell_type": "markdown",
   "metadata": {},
   "source": [
    "## Ajustar el clasificador REDES NEURONALES en el Conjunto de Entrenamiento"
   ]
  },
  {
   "cell_type": "code",
   "execution_count": 17,
   "metadata": {},
   "outputs": [],
   "source": [
    "import keras\n",
    "from keras.models import Sequential\n",
    "from keras.layers import Dense"
   ]
  },
  {
   "cell_type": "code",
   "execution_count": 18,
   "metadata": {},
   "outputs": [
    {
     "name": "stderr",
     "output_type": "stream",
     "text": [
      "C:\\Users\\jenny\\AppData\\Local\\Temp/ipykernel_11812/2278733859.py:22: DeprecationWarning: KerasClassifier is deprecated, use Sci-Keras (https://github.com/adriangb/scikeras) instead.\n",
      "  class_RN = KerasClassifier(build_fn=built_class_RN, batch_size = 10, epochs = 100)\n"
     ]
    }
   ],
   "source": [
    "#validación cruzada (datos)\n",
    "import keras\n",
    "from keras.wrappers.scikit_learn import KerasClassifier\n",
    "from keras.models import Sequential\n",
    "from keras.layers import Dense\n",
    "from sklearn.model_selection import KFold, cross_val_score\n",
    "\n",
    "def built_class_RN():\n",
    "    #Inicializar la RNA\n",
    "    class_RN = Sequential()\n",
    "    #Añadir las capas de entrada y primera capa oculta\n",
    "    class_RN.add(Dense(units = 12, kernel_initializer = \"uniform\", activation = \"relu\", input_dim = 23))\n",
    "    #Añadir la segunda capa oculta\n",
    "    class_RN.add(Dense(units = 10, kernel_initializer = \"uniform\",  activation = \"relu\"))\n",
    "    #Añadir la capa de salida\n",
    "    class_RN.add(Dense(units = 1, kernel_initializer = \"uniform\",  activation = \"sigmoid\"))\n",
    "    #Compilar la RNA\n",
    "    class_RN.compile(optimizer = \"adam\", loss = \"binary_crossentropy\", metrics = [\"accuracy\"])\n",
    "    return class_RN\n",
    "\n",
    "#Ajustar la RNA al Conjunto de Entrenamiento\n",
    "class_RN = KerasClassifier(build_fn=built_class_RN, batch_size = 10, epochs = 100)\n",
    "kf =KFold(n_splits=5, shuffle=True, random_state=42)\n",
    "Accuracy = cross_val_score(class_RN, X_train, y_train, cv= kf, n_jobs=-1)\n"
   ]
  },
  {
   "cell_type": "code",
   "execution_count": 19,
   "metadata": {},
   "outputs": [
    {
     "name": "stdout",
     "output_type": "stream",
     "text": [
      "Scores for each fold are: [0.76087987 0.76310313 0.76073796 0.76597756 0.75949669]\n",
      "Average score: 0.7620\n"
     ]
    }
   ],
   "source": [
    "print(f'Scores for each fold are: {Accuracy}')\n",
    "print(f'Average score: {\"{:.4f}\".format(Accuracy.mean())}')"
   ]
  },
  {
   "cell_type": "code",
   "execution_count": 11,
   "metadata": {},
   "outputs": [
    {
     "name": "stdout",
     "output_type": "stream",
     "text": [
      "Epoch 1/100\n",
      "10570/10570 [==============================] - 23s 2ms/step - loss: 0.5256 - accuracy: 0.7405\n",
      "Epoch 2/100\n",
      "10570/10570 [==============================] - 18s 2ms/step - loss: 0.5213 - accuracy: 0.7442\n",
      "Epoch 3/100\n",
      "10570/10570 [==============================] - 10s 968us/step - loss: 0.5204 - accuracy: 0.7452\n",
      "Epoch 4/100\n",
      "10570/10570 [==============================] - 10s 919us/step - loss: 0.5200 - accuracy: 0.7454\n",
      "Epoch 5/100\n",
      "10570/10570 [==============================] - 12s 1ms/step - loss: 0.5194 - accuracy: 0.7458\n",
      "Epoch 6/100\n",
      "10570/10570 [==============================] - 12s 1ms/step - loss: 0.5191 - accuracy: 0.7459\n",
      "Epoch 7/100\n",
      "10570/10570 [==============================] - 12s 1ms/step - loss: 0.5186 - accuracy: 0.7468\n",
      "Epoch 8/100\n",
      "10570/10570 [==============================] - 11s 1ms/step - loss: 0.5179 - accuracy: 0.7468\n",
      "Epoch 9/100\n",
      "10570/10570 [==============================] - 11s 1ms/step - loss: 0.5170 - accuracy: 0.7483\n",
      "Epoch 10/100\n",
      "10570/10570 [==============================] - 11s 1ms/step - loss: 0.5154 - accuracy: 0.7510\n",
      "Epoch 11/100\n",
      "10570/10570 [==============================] - 11s 1ms/step - loss: 0.5143 - accuracy: 0.7532\n",
      "Epoch 12/100\n",
      "10570/10570 [==============================] - 11s 1ms/step - loss: 0.5135 - accuracy: 0.7550\n",
      "Epoch 13/100\n",
      "10570/10570 [==============================] - 11s 1ms/step - loss: 0.5127 - accuracy: 0.7558\n",
      "Epoch 14/100\n",
      "10570/10570 [==============================] - 11s 1ms/step - loss: 0.5121 - accuracy: 0.7564\n",
      "Epoch 15/100\n",
      "10570/10570 [==============================] - 11s 1ms/step - loss: 0.5116 - accuracy: 0.7575\n",
      "Epoch 16/100\n",
      "10570/10570 [==============================] - 11s 1ms/step - loss: 0.5114 - accuracy: 0.7579\n",
      "Epoch 17/100\n",
      "10570/10570 [==============================] - 11s 1ms/step - loss: 0.5110 - accuracy: 0.7586\n",
      "Epoch 18/100\n",
      "10570/10570 [==============================] - 10s 959us/step - loss: 0.5105 - accuracy: 0.7588\n",
      "Epoch 19/100\n",
      "10570/10570 [==============================] - 11s 1ms/step - loss: 0.5103 - accuracy: 0.7587\n",
      "Epoch 20/100\n",
      "10570/10570 [==============================] - 11s 1ms/step - loss: 0.5103 - accuracy: 0.7591\n",
      "Epoch 21/100\n",
      "10570/10570 [==============================] - 11s 1ms/step - loss: 0.5098 - accuracy: 0.7595\n",
      "Epoch 22/100\n",
      "10570/10570 [==============================] - 11s 1ms/step - loss: 0.5098 - accuracy: 0.7598\n",
      "Epoch 23/100\n",
      "10570/10570 [==============================] - 11s 1ms/step - loss: 0.5095 - accuracy: 0.7597\n",
      "Epoch 24/100\n",
      "10570/10570 [==============================] - 11s 1ms/step - loss: 0.5096 - accuracy: 0.7594\n",
      "Epoch 25/100\n",
      "10570/10570 [==============================] - 11s 1ms/step - loss: 0.5093 - accuracy: 0.7593\n",
      "Epoch 26/100\n",
      "10570/10570 [==============================] - 11s 1ms/step - loss: 0.5093 - accuracy: 0.7601\n",
      "Epoch 27/100\n",
      "10570/10570 [==============================] - 11s 993us/step - loss: 0.5091 - accuracy: 0.7601\n",
      "Epoch 28/100\n",
      "10570/10570 [==============================] - 11s 1ms/step - loss: 0.5092 - accuracy: 0.7598\n",
      "Epoch 29/100\n",
      "10570/10570 [==============================] - 12s 1ms/step - loss: 0.5088 - accuracy: 0.7605\n",
      "Epoch 30/100\n",
      "10570/10570 [==============================] - 11s 1ms/step - loss: 0.5088 - accuracy: 0.7604\n",
      "Epoch 31/100\n",
      "10570/10570 [==============================] - 12s 1ms/step - loss: 0.5087 - accuracy: 0.7601\n",
      "Epoch 32/100\n",
      "10570/10570 [==============================] - 12s 1ms/step - loss: 0.5085 - accuracy: 0.7602\n",
      "Epoch 33/100\n",
      "10570/10570 [==============================] - 11s 1ms/step - loss: 0.5085 - accuracy: 0.7600\n",
      "Epoch 34/100\n",
      "10570/10570 [==============================] - 11s 1ms/step - loss: 0.5085 - accuracy: 0.7610\n",
      "Epoch 35/100\n",
      "10570/10570 [==============================] - 11s 993us/step - loss: 0.5083 - accuracy: 0.7613\n",
      "Epoch 36/100\n",
      "10570/10570 [==============================] - 10s 939us/step - loss: 0.5084 - accuracy: 0.7603\n",
      "Epoch 37/100\n",
      "10570/10570 [==============================] - 11s 1ms/step - loss: 0.5081 - accuracy: 0.7610\n",
      "Epoch 38/100\n",
      "10570/10570 [==============================] - 11s 1ms/step - loss: 0.5083 - accuracy: 0.7607\n",
      "Epoch 39/100\n",
      "10570/10570 [==============================] - 10s 987us/step - loss: 0.5080 - accuracy: 0.7609\n",
      "Epoch 40/100\n",
      "10570/10570 [==============================] - 12s 1ms/step - loss: 0.5080 - accuracy: 0.7607\n",
      "Epoch 41/100\n",
      "10570/10570 [==============================] - 10s 982us/step - loss: 0.5076 - accuracy: 0.7618\n",
      "Epoch 42/100\n",
      "10570/10570 [==============================] - 11s 1ms/step - loss: 0.5077 - accuracy: 0.7612\n",
      "Epoch 43/100\n",
      "10570/10570 [==============================] - 11s 1ms/step - loss: 0.5075 - accuracy: 0.7621\n",
      "Epoch 44/100\n",
      "10570/10570 [==============================] - 11s 1ms/step - loss: 0.5076 - accuracy: 0.7616\n",
      "Epoch 45/100\n",
      "10570/10570 [==============================] - 11s 1ms/step - loss: 0.5075 - accuracy: 0.7620\n",
      "Epoch 46/100\n",
      "10570/10570 [==============================] - 11s 1ms/step - loss: 0.5073 - accuracy: 0.7619\n",
      "Epoch 47/100\n",
      "10570/10570 [==============================] - 11s 1ms/step - loss: 0.5074 - accuracy: 0.7620\n",
      "Epoch 48/100\n",
      "10570/10570 [==============================] - 10s 991us/step - loss: 0.5074 - accuracy: 0.7612\n",
      "Epoch 49/100\n",
      "10570/10570 [==============================] - 11s 1ms/step - loss: 0.5071 - accuracy: 0.7620\n",
      "Epoch 50/100\n",
      "10570/10570 [==============================] - 11s 999us/step - loss: 0.5071 - accuracy: 0.7616\n",
      "Epoch 51/100\n",
      "10570/10570 [==============================] - 11s 999us/step - loss: 0.5069 - accuracy: 0.7619\n",
      "Epoch 52/100\n",
      "10570/10570 [==============================] - 11s 1ms/step - loss: 0.5070 - accuracy: 0.7617\n",
      "Epoch 53/100\n",
      "10570/10570 [==============================] - 10s 966us/step - loss: 0.5070 - accuracy: 0.7617\n",
      "Epoch 54/100\n",
      "10570/10570 [==============================] - 10s 941us/step - loss: 0.5070 - accuracy: 0.7620\n",
      "Epoch 55/100\n",
      "10570/10570 [==============================] - 10s 945us/step - loss: 0.5068 - accuracy: 0.7620\n",
      "Epoch 56/100\n",
      "10570/10570 [==============================] - 11s 997us/step - loss: 0.5068 - accuracy: 0.7626\n",
      "Epoch 57/100\n",
      "10570/10570 [==============================] - 10s 986us/step - loss: 0.5066 - accuracy: 0.7624\n",
      "Epoch 58/100\n",
      "10570/10570 [==============================] - 11s 1ms/step - loss: 0.5066 - accuracy: 0.7626\n",
      "Epoch 59/100\n",
      "10570/10570 [==============================] - 10s 974us/step - loss: 0.5065 - accuracy: 0.7621\n",
      "Epoch 60/100\n",
      "10570/10570 [==============================] - 10s 960us/step - loss: 0.5064 - accuracy: 0.7624\n",
      "Epoch 61/100\n",
      "10570/10570 [==============================] - 11s 1ms/step - loss: 0.5063 - accuracy: 0.7628\n",
      "Epoch 62/100\n",
      "10570/10570 [==============================] - 10s 973us/step - loss: 0.5062 - accuracy: 0.7619\n",
      "Epoch 63/100\n",
      "10570/10570 [==============================] - 11s 1ms/step - loss: 0.5059 - accuracy: 0.7629\n",
      "Epoch 64/100\n",
      "10570/10570 [==============================] - 11s 1ms/step - loss: 0.5062 - accuracy: 0.7624\n",
      "Epoch 65/100\n",
      "10570/10570 [==============================] - 10s 990us/step - loss: 0.5059 - accuracy: 0.7635\n",
      "Epoch 66/100\n",
      "10570/10570 [==============================] - 10s 988us/step - loss: 0.5059 - accuracy: 0.7635\n",
      "Epoch 67/100\n",
      "10570/10570 [==============================] - 10s 963us/step - loss: 0.5059 - accuracy: 0.7637\n",
      "Epoch 68/100\n",
      "10570/10570 [==============================] - 11s 996us/step - loss: 0.5058 - accuracy: 0.7637\n",
      "Epoch 69/100\n",
      "10570/10570 [==============================] - 11s 1ms/step - loss: 0.5060 - accuracy: 0.7633\n",
      "Epoch 70/100\n",
      "10570/10570 [==============================] - 10s 987us/step - loss: 0.5056 - accuracy: 0.7636\n",
      "Epoch 71/100\n",
      "10570/10570 [==============================] - 11s 1ms/step - loss: 0.5059 - accuracy: 0.7629\n",
      "Epoch 72/100\n",
      "10570/10570 [==============================] - 11s 1ms/step - loss: 0.5055 - accuracy: 0.7633\n",
      "Epoch 73/100\n",
      "10570/10570 [==============================] - 11s 1ms/step - loss: 0.5057 - accuracy: 0.7632\n",
      "Epoch 74/100\n",
      "10570/10570 [==============================] - 11s 1ms/step - loss: 0.5055 - accuracy: 0.7624\n",
      "Epoch 75/100\n",
      "10570/10570 [==============================] - 11s 1ms/step - loss: 0.5054 - accuracy: 0.7636\n",
      "Epoch 76/100\n",
      "10570/10570 [==============================] - 11s 1ms/step - loss: 0.5055 - accuracy: 0.7635\n",
      "Epoch 77/100\n",
      "10570/10570 [==============================] - 10s 956us/step - loss: 0.5056 - accuracy: 0.7632\n",
      "Epoch 78/100\n",
      "10570/10570 [==============================] - 11s 1ms/step - loss: 0.5054 - accuracy: 0.7635\n",
      "Epoch 79/100\n",
      "10570/10570 [==============================] - 11s 1ms/step - loss: 0.5054 - accuracy: 0.7625\n",
      "Epoch 80/100\n",
      "10570/10570 [==============================] - 10s 976us/step - loss: 0.5053 - accuracy: 0.7640\n",
      "Epoch 81/100\n",
      "10570/10570 [==============================] - 11s 1ms/step - loss: 0.5053 - accuracy: 0.7625\n",
      "Epoch 82/100\n",
      "10570/10570 [==============================] - 10s 964us/step - loss: 0.5052 - accuracy: 0.7637\n",
      "Epoch 83/100\n",
      "10570/10570 [==============================] - 10s 958us/step - loss: 0.5051 - accuracy: 0.7643\n",
      "Epoch 84/100\n",
      "10570/10570 [==============================] - 11s 993us/step - loss: 0.5054 - accuracy: 0.7639\n",
      "Epoch 85/100\n",
      "10570/10570 [==============================] - 10s 963us/step - loss: 0.5052 - accuracy: 0.7630\n",
      "Epoch 86/100\n",
      "10570/10570 [==============================] - 12s 1ms/step - loss: 0.5049 - accuracy: 0.7643\n",
      "Epoch 87/100\n",
      "10570/10570 [==============================] - 12s 1ms/step - loss: 0.5052 - accuracy: 0.7629\n",
      "Epoch 88/100\n",
      "10570/10570 [==============================] - 11s 1ms/step - loss: 0.5051 - accuracy: 0.7639\n",
      "Epoch 89/100\n",
      "10570/10570 [==============================] - 10s 986us/step - loss: 0.5049 - accuracy: 0.7632\n",
      "Epoch 90/100\n",
      "10570/10570 [==============================] - 10s 970us/step - loss: 0.5050 - accuracy: 0.7637\n",
      "Epoch 91/100\n",
      "10570/10570 [==============================] - 11s 1ms/step - loss: 0.5050 - accuracy: 0.7640\n",
      "Epoch 92/100\n",
      "10570/10570 [==============================] - 10s 974us/step - loss: 0.5050 - accuracy: 0.7642\n",
      "Epoch 93/100\n",
      "10570/10570 [==============================] - 10s 977us/step - loss: 0.5049 - accuracy: 0.7641\n",
      "Epoch 94/100\n",
      "10570/10570 [==============================] - 11s 1ms/step - loss: 0.5049 - accuracy: 0.7634\n",
      "Epoch 95/100\n",
      "10570/10570 [==============================] - 11s 1ms/step - loss: 0.5047 - accuracy: 0.7641\n",
      "Epoch 96/100\n",
      "10570/10570 [==============================] - 11s 1ms/step - loss: 0.5047 - accuracy: 0.7635\n",
      "Epoch 97/100\n",
      "10570/10570 [==============================] - 11s 1ms/step - loss: 0.5046 - accuracy: 0.7636\n",
      "Epoch 98/100\n",
      "10570/10570 [==============================] - 11s 1ms/step - loss: 0.5050 - accuracy: 0.7636\n",
      "Epoch 99/100\n",
      "10570/10570 [==============================] - 11s 1ms/step - loss: 0.5046 - accuracy: 0.7631\n",
      "Epoch 100/100\n",
      "10570/10570 [==============================] - 10s 985us/step - loss: 0.5048 - accuracy: 0.7639\n"
     ]
    },
    {
     "data": {
      "text/plain": [
       "<keras.callbacks.History at 0x2002ea3ac70>"
      ]
     },
     "execution_count": 11,
     "metadata": {},
     "output_type": "execute_result"
    }
   ],
   "source": [
    "#Inicializar la RNA\n",
    "class_RN = Sequential()\n",
    "#Añadir las capas de entrada y primera capa oculta\n",
    "class_RN.add(Dense(units = 12, kernel_initializer = \"uniform\",  \n",
    "                     activation = \"relu\", input_dim = 23))\n",
    "#Añadir la segunda capa oculta\n",
    "class_RN.add(Dense(units = 10, kernel_initializer = \"uniform\",  activation = \"relu\"))\n",
    "#Añadir la capa de salida\n",
    "class_RN.add(Dense(units = 1, kernel_initializer = \"uniform\",  activation = \"sigmoid\"))\n",
    "#Compilar la RNA\n",
    "class_RN.compile(optimizer = \"adam\", loss = \"binary_crossentropy\", metrics = [\"accuracy\"])\n",
    "#Ajustar la RNA al Conjunto de Entrenamiento\n",
    "class_RN.fit(X_train, y_train,  batch_size = 10, epochs = 100)"
   ]
  },
  {
   "cell_type": "code",
   "execution_count": 12,
   "metadata": {},
   "outputs": [
    {
     "name": "stdout",
     "output_type": "stream",
     "text": [
      "826/826 - 1s - loss: 0.5104 - accuracy: 0.7604 - 701ms/epoch - 848us/step\n",
      "\n",
      "Test Accuracy: 0.7604072093963623\n"
     ]
    }
   ],
   "source": [
    "test_loss, test_acc = class_RN.evaluate(X_test,  y_test, verbose=2)\n",
    "print('\\nTest Accuracy:', test_acc)"
   ]
  },
  {
   "cell_type": "code",
   "execution_count": 13,
   "metadata": {},
   "outputs": [
    {
     "data": {
      "text/plain": [
       "array([[18416,   833],\n",
       "       [ 5498,  1677]], dtype=int64)"
      ]
     },
     "metadata": {},
     "output_type": "display_data"
    },
    {
     "name": "stdout",
     "output_type": "stream",
     "text": [
      "              precision    recall  f1-score   support\n",
      "\n",
      "           0       0.77      0.96      0.85     19249\n",
      "           1       0.67      0.23      0.35      7175\n",
      "\n",
      "    accuracy                           0.76     26424\n",
      "   macro avg       0.72      0.60      0.60     26424\n",
      "weighted avg       0.74      0.76      0.72     26424\n",
      "\n"
     ]
    }
   ],
   "source": [
    "# Evaluar el modelo y calcular predicciones finales\n",
    "# Predicción de los resultados con el Conjunto de Testing\n",
    "y_pred_rn  = class_RN.predict(X_test)\n",
    "y_pred_rn = (y_pred_rn>0.5)\n",
    "#Elaborar una matriz de confusión\n",
    "from sklearn.metrics import confusion_matrix\n",
    "from sklearn.metrics import classification_report\n",
    "display(confusion_matrix(y_test, y_pred_rn))\n",
    "class_report=classification_report(y_test, y_pred_rn)\n",
    "print(class_report)"
   ]
  },
  {
   "cell_type": "code",
   "execution_count": 23,
   "metadata": {},
   "outputs": [
    {
     "data": {
      "image/png": "[encoded data removed]",
      "text/plain": [
       "<Figure size 432x288 with 1 Axes>"
      ]
     },
     "metadata": {
      "needs_background": "light"
     },
     "output_type": "display_data"
    }
   ],
   "source": [
    "#Curva ROC\n",
    "from sklearn.metrics import roc_curve, auc\n",
    "import matplotlib.pyplot as plt\n",
    "y_pred_rn_curv = class_RN.predict(X_test).ravel()\n",
    "\n",
    "nn_fpr_keras, nn_tpr_keras, nn_thresholds_keras = roc_curve(y_test, y_pred_rn_curv)\n",
    "auc_keras = auc(nn_fpr_keras, nn_tpr_keras)\n",
    "# method I: plt\n",
    "import matplotlib.pyplot as plt\n",
    "plt.title('Receiver Operating Characteristic')\n",
    "plt.plot(nn_fpr_keras, nn_tpr_keras, 'b', label = 'AUC = %0.4f' % auc_keras)\n",
    "plt.legend(loc = 'lower right')\n",
    "plt.plot([0, 1], [0, 1],'r--')\n",
    "plt.xlim([0, 1])\n",
    "plt.ylim([0, 1])\n",
    "plt.ylabel('True Positive Rate')\n",
    "plt.xlabel('False Positive Rate')\n",
    "plt.show()"
   ]
  },
  {
   "cell_type": "markdown",
   "metadata": {},
   "source": [
    "## Ajustar el clasificador SVM en el Conjunto de Entrenamiento"
   ]
  },
  {
   "cell_type": "code",
   "execution_count": 24,
   "metadata": {},
   "outputs": [
    {
     "name": "stdout",
     "output_type": "stream",
     "text": [
      "Scores for each fold are: [0.74271523 0.74564806 0.7486755  0.75074507 0.74194617]\n",
      "Average score: 0.7459\n"
     ]
    }
   ],
   "source": [
    "#validación cruzada (datos)\n",
    "from sklearn.model_selection import KFold, cross_val_score\n",
    "from sklearn.svm import SVC\n",
    "kf =KFold(n_splits=5, shuffle=True, random_state=42)\n",
    "score = cross_val_score(SVC(kernel='rbf',random_state=123), X_train, y_train, cv= kf, scoring=\"accuracy\")\n",
    "print(f'Scores for each fold are: {score}')\n",
    "print(f'Average score: {\"{:.4f}\".format(score.mean())}')"
   ]
  },
  {
   "cell_type": "code",
   "execution_count": 26,
   "metadata": {},
   "outputs": [
    {
     "data": {
      "text/plain": [
       "SVC(probability=True, random_state=123)"
      ]
     },
     "execution_count": 26,
     "metadata": {},
     "output_type": "execute_result"
    }
   ],
   "source": [
    "# Fitting SVM to the Training set using Kernel as rbf.\n",
    "from sklearn.svm import SVC\n",
    "class_svm = SVC(kernel='rbf',probability=True,random_state=123)\n",
    "class_svm.fit(X_train, y_train)"
   ]
  },
  {
   "cell_type": "code",
   "execution_count": 27,
   "metadata": {},
   "outputs": [
    {
     "data": {
      "text/plain": [
       "array([0.74271523, 0.74564806, 0.7486755 , 0.75074507, 0.74194617])"
      ]
     },
     "execution_count": 27,
     "metadata": {},
     "output_type": "execute_result"
    },
    {
     "data": {
      "image/png": "[encoded data removed]",
      "text/plain": [
       "<Figure size 504x216 with 1 Axes>"
      ]
     },
     "metadata": {
      "needs_background": "light"
     },
     "output_type": "display_data"
    }
   ],
   "source": [
    "#Validación cruzada (gráfico y datos)\n",
    "graficar_Accu_scores(class_svm,X_train,y_train,X_test,y_test,nparts=5,jobs=2)"
   ]
  },
  {
   "cell_type": "code",
   "execution_count": 28,
   "metadata": {},
   "outputs": [
    {
     "data": {
      "text/plain": [
       "array([[17953,  1296],\n",
       "       [ 5490,  1685]], dtype=int64)"
      ]
     },
     "metadata": {},
     "output_type": "display_data"
    },
    {
     "name": "stdout",
     "output_type": "stream",
     "text": [
      "              precision    recall  f1-score   support\n",
      "\n",
      "           0       0.77      0.93      0.84     19249\n",
      "           1       0.57      0.23      0.33      7175\n",
      "\n",
      "    accuracy                           0.74     26424\n",
      "   macro avg       0.67      0.58      0.59     26424\n",
      "weighted avg       0.71      0.74      0.70     26424\n",
      "\n"
     ]
    }
   ],
   "source": [
    "#Predicción resultados\n",
    "y_pred_svm  = class_svm.predict(X_test)\n",
    "##matriz de confusión\n",
    "from sklearn.metrics import confusion_matrix\n",
    "from sklearn.metrics import classification_report\n",
    "display(confusion_matrix(y_test, y_pred_svm))\n",
    "class_report=classification_report(y_test, y_pred_svm)\n",
    "print(class_report)"
   ]
  },
  {
   "cell_type": "code",
   "execution_count": 29,
   "metadata": {},
   "outputs": [
    {
     "data": {
      "image/png": "[encoded data removed]",
      "text/plain": [
       "<Figure size 432x288 with 1 Axes>"
      ]
     },
     "metadata": {
      "needs_background": "light"
     },
     "output_type": "display_data"
    }
   ],
   "source": [
    "#Curvas ROC\n",
    "import sklearn.metrics as metrics\n",
    "# calcular fpr y tpr para todos los thresholds de la clasificación\n",
    "probs = class_svm.predict_proba(X_test)\n",
    "preds = probs[:,1]\n",
    "fpr, tpr, threshold = metrics.roc_curve(y_test, preds)\n",
    "roc_auc = metrics.auc(fpr, tpr)\n",
    "\n",
    "# method I: plt\n",
    "import matplotlib.pyplot as plt\n",
    "plt.title('Receiver Operating Characteristic')\n",
    "plt.plot(fpr, tpr, 'b', label = 'AUC = %0.4f' % roc_auc)\n",
    "plt.legend(loc = 'lower right')\n",
    "plt.plot([0, 1], [0, 1],'r--')\n",
    "plt.xlim([0, 1])\n",
    "plt.ylim([0, 1])\n",
    "plt.ylabel('True Positive Rate')\n",
    "plt.xlabel('False Positive Rate')\n",
    "plt.show()"
   ]
  }
 ],
 "metadata": {
  "colab": {
   "authorship_tag": "ABX9TyMJUn2/uS+2CUlTfIt4QIIg",
   "collapsed_sections": [],
   "name": "Copia de Modelos.ipynb",
   "provenance": [
    {
     "file_id": "10nHoFKKtgfxuqIONQnIkGNzknNDbXQgz",
     "timestamp": 1639278306948
    }
   ]
  },
  "kernelspec": {
   "display_name": "Python 3 (ipykernel)",
   "language": "python",
   "name": "python3"
  },
  "language_info": {
   "codemirror_mode": {
    "name": "ipython",
    "version": 3
   },
   "file_extension": ".py",
   "mimetype": "text/x-python",
   "name": "python",
   "nbconvert_exporter": "python",
   "pygments_lexer": "ipython3",
   "version": "3.9.7"
  }
 },
 "nbformat": 4,
 "nbformat_minor": 1
}
