{
 "cells": [
  {
   "cell_type": "markdown",
   "metadata": {
    "id": "HhcI63_fjYZk"
   },
   "source": [
    "# MODELOS DE MACHINE LEARNING\n"
   ]
  },
  {
   "cell_type": "markdown",
   "metadata": {},
   "source": [
    "**Autor: Jenny Marisol Tenisaca Moposita**"
   ]
  },
  {
   "cell_type": "markdown",
   "metadata": {
    "id": "v2aw_vV0kxbk"
   },
   "source": [
    "**Importar librerias**"
   ]
  },
  {
   "cell_type": "code",
   "execution_count": 1,
   "metadata": {
    "executionInfo": {
     "elapsed": 193,
     "status": "ok",
     "timestamp": 1639278334562,
     "user": {
      "displayName": "Jenny Marisol Tenisaca",
      "photoUrl": "https://lh3.googleusercontent.com/a-/AOh14GgJNtOj-Zg9zNc7JJc5TPunlhAuYezEy6BIgc28=s64",
      "userId": "09551687578372406932"
     },
     "user_tz": 300
    },
    "id": "DHUlLQAbkNVk"
   },
   "outputs": [],
   "source": [
    "import numpy as np\n",
    "import matplotlib.pyplot as plt\n",
    "import pandas as pd"
   ]
  },
  {
   "cell_type": "markdown",
   "metadata": {
    "id": "GyxoEli2kGvt"
   },
   "source": [
    "## Conjunto con Datos balanceados método ROSE - BOTH\n",
    "**Importar el data de entrenamiento (balanceados) y data test**"
   ]
  },
  {
   "cell_type": "markdown",
   "metadata": {
    "id": "uqaoBWjtjnvT"
   },
   "source": [
    "Cargar conjuntos de entrenamiento balanceados (4 métodos) y conjunto de test. (los conjuntos de entrenamiento y test fueron dividimos en 80% y 20%)  "
   ]
  },
  {
   "cell_type": "code",
   "execution_count": 2,
   "metadata": {
    "colab": {
     "base_uri": "https://localhost:8080/",
     "height": 398
    },
    "executionInfo": {
     "elapsed": 205,
     "status": "error",
     "timestamp": 1639278338223,
     "user": {
      "displayName": "Jenny Marisol Tenisaca",
      "photoUrl": "https://lh3.googleusercontent.com/a-/AOh14GgJNtOj-Zg9zNc7JJc5TPunlhAuYezEy6BIgc28=s64",
      "userId": "09551687578372406932"
     },
     "user_tz": 300
    },
    "id": "FWvurKD0lR94",
    "outputId": "89bb3f0e-b070-4c66-81e1-6b339b351318"
   },
   "outputs": [],
   "source": [
    "#data entrenamiento balanceado con ROSE-BOTH\n",
    "data_train_bal = pd.read_csv('Data_train_Rose_Under.csv', encoding='latin-1',sep=';')\n",
    "# 80% balanceado"
   ]
  },
  {
   "cell_type": "code",
   "execution_count": 4,
   "metadata": {},
   "outputs": [],
   "source": [
    "#data test\n",
    "data_test = pd.read_csv('Data_test.csv',sep=';')\n",
    "# 20% de la data completa "
   ]
  },
  {
   "cell_type": "code",
   "execution_count": 5,
   "metadata": {},
   "outputs": [],
   "source": [
    "X_train=data_train_bal.iloc[:,1:23].values\n",
    "y_train=data_train_bal.iloc[:,0].values\n",
    "X_test=data_test.iloc[:,1:23].values\n",
    "y_test=data_test.iloc[:,0].values"
   ]
  },
  {
   "cell_type": "markdown",
   "metadata": {},
   "source": [
    "## Ajustar el clasificador Random Forest en el Conjunto de Entrenamiento"
   ]
  },
  {
   "cell_type": "code",
   "execution_count": 11,
   "metadata": {},
   "outputs": [
    {
     "name": "stdout",
     "output_type": "stream",
     "text": [
      "Scores for each fold are: [0.99539411 0.9952203  0.99591553 0.99565482 0.99556792]\n",
      "Average score: 0.9956\n"
     ]
    }
   ],
   "source": [
    "#Validación cruzada (datos)\n",
    "from sklearn.model_selection import KFold, cross_val_score\n",
    "from sklearn.ensemble import RandomForestClassifier\n",
    "kf =KFold(n_splits=5, shuffle=True, random_state=42)\n",
    "score = cross_val_score(RandomForestClassifier(n_estimators = 100, n_jobs=2, criterion = \"entropy\", random_state = 123), X_train, y_train, cv= kf, scoring=\"accuracy\")\n",
    "print(f'Scores for each fold are: {score}')\n",
    "print(f'Average score: {\"{:.4f}\".format(score.mean())}')"
   ]
  },
  {
   "cell_type": "code",
   "execution_count": 12,
   "metadata": {},
   "outputs": [],
   "source": [
    "#Validación cruzada (gráfico y datos)\n",
    "def graficar_Accu_scores(estimator, X_train, y_train,X_test,y_test,nparts=5,jobs=None):\n",
    "    kf = KFold(n_splits=nparts,shuffle=True, random_state=42)\n",
    "    fig,axes = plt.subplots(figsize=(7, 3))\n",
    "    axes.set_title(\"Acc/Nro. Fold\")\n",
    "    axes.set_xlabel(\"Nro. Fold\")\n",
    "    axes.set_ylabel(\"Acc\")    \n",
    "    train_scores = cross_val_score(estimator, X_train, y_train, cv = kf, n_jobs=jobs,scoring=\"accuracy\")\n",
    "    test_scores = cross_val_score(estimator, X_test,y_test, cv = kf, n_jobs=jobs,scoring=\"accuracy\")        \n",
    "    train_sizes = range(1,nparts+1,1)    \n",
    "    axes.grid()    \n",
    "    axes.plot(train_sizes, train_scores, 'o-', color=\"r\",label=\"Datos Entrenamiento\")\n",
    "    axes.plot(train_sizes, test_scores, 'o-', color=\"g\",label=\"Validacion Cruzada\")\n",
    "    axes.legend(loc=\"best\")\n",
    "    return train_scores"
   ]
  },
  {
   "cell_type": "code",
   "execution_count": 13,
   "metadata": {},
   "outputs": [
    {
     "data": {
      "text/plain": [
       "array([0.99539411, 0.9952203 , 0.99591553, 0.99565482, 0.99556792])"
      ]
     },
     "execution_count": 13,
     "metadata": {},
     "output_type": "execute_result"
    },
    {
     "data": {
      "image/png": "[encoded data removed]",
      "text/plain": [
       "<Figure size 504x216 with 1 Axes>"
      ]
     },
     "metadata": {
      "needs_background": "light"
     },
     "output_type": "display_data"
    }
   ],
   "source": [
    "#Validación cruzada (gráfico y datos)\n",
    "graficar_Accu_scores(clas_rndforest,X_train,y_train,X_test,y_test,nparts=5,jobs=2)"
   ]
  },
  {
   "cell_type": "code",
   "execution_count": 6,
   "metadata": {},
   "outputs": [
    {
     "data": {
      "text/plain": [
       "RandomForestClassifier(criterion='entropy', n_jobs=2, random_state=123)"
      ]
     },
     "execution_count": 6,
     "metadata": {},
     "output_type": "execute_result"
    }
   ],
   "source": [
    "from sklearn.ensemble import RandomForestClassifier\n",
    "clas_rndforest = RandomForestClassifier(n_estimators = 100, n_jobs=2, criterion = \"entropy\", random_state = 123)\n",
    "clas_rndforest.fit(X_train, y_train)"
   ]
  },
  {
   "cell_type": "markdown",
   "metadata": {},
   "source": [
    "### Predicción resultados"
   ]
  },
  {
   "cell_type": "code",
   "execution_count": 8,
   "metadata": {},
   "outputs": [],
   "source": [
    "y_pred  = clas_rndforest.predict(X_test)"
   ]
  },
  {
   "cell_type": "code",
   "execution_count": 10,
   "metadata": {},
   "outputs": [
    {
     "data": {
      "text/plain": [
       "array([[19249,     0],\n",
       "       [   52,  7123]], dtype=int64)"
      ]
     },
     "execution_count": 10,
     "metadata": {},
     "output_type": "execute_result"
    }
   ],
   "source": [
    "##matriz de confusión\n",
    "from sklearn.metrics import confusion_matrix\n",
    "cm = confusion_matrix(y_test, y_pred)\n",
    "cm"
   ]
  },
  {
   "cell_type": "code",
   "execution_count": 14,
   "metadata": {},
   "outputs": [
    {
     "data": {
      "image/png": "[encoded data removed]",
      "text/plain": [
       "<Figure size 432x288 with 1 Axes>"
      ]
     },
     "metadata": {
      "needs_background": "light"
     },
     "output_type": "display_data"
    }
   ],
   "source": [
    "#Curvas ROC\n",
    "import sklearn.metrics as metrics\n",
    "# calcular fpr y tpr para todos los thresholds de la clasificación\n",
    "probs = clas_rndforest.predict_proba(X_test)\n",
    "preds = probs[:,1]\n",
    "fpr, tpr, threshold = metrics.roc_curve(y_test, preds)\n",
    "roc_auc = metrics.auc(fpr, tpr)\n",
    "\n",
    "# method I: plt\n",
    "import matplotlib.pyplot as plt\n",
    "plt.title('Receiver Operating Characteristic')\n",
    "plt.plot(fpr, tpr, 'b', label = 'AUC = %0.4f' % roc_auc)\n",
    "plt.legend(loc = 'lower right')\n",
    "plt.plot([0, 1], [0, 1],'r--')\n",
    "plt.xlim([0, 1])\n",
    "plt.ylim([0, 1])\n",
    "plt.ylabel('True Positive Rate')\n",
    "plt.xlabel('False Positive Rate')\n",
    "plt.show()"
   ]
  },
  {
   "cell_type": "markdown",
   "metadata": {},
   "source": [
    "## Ajustar el clasificador SVM en el Conjunto de Entrenamiento"
   ]
  },
  {
   "cell_type": "code",
   "execution_count": 18,
   "metadata": {},
   "outputs": [
    {
     "name": "stdout",
     "output_type": "stream",
     "text": [
      "Scores for each fold are: [0.97514556 0.97479795 0.97540627 0.97627531 0.97575389]\n",
      "Average score: 0.9755\n"
     ]
    }
   ],
   "source": [
    "#validación cruzada (datos)\n",
    "from sklearn.model_selection import KFold, cross_val_score\n",
    "from sklearn.svm import SVC\n",
    "kf =KFold(n_splits=5, shuffle=True, random_state=42)\n",
    "score = cross_val_score(SVC(kernel='rbf',random_state=123), X_train, y_train, cv= kf, scoring=\"accuracy\")\n",
    "print(f'Scores for each fold are: {score}')\n",
    "print(f'Average score: {\"{:.4f}\".format(score.mean())}')"
   ]
  },
  {
   "cell_type": "code",
   "execution_count": 19,
   "metadata": {},
   "outputs": [
    {
     "data": {
      "text/plain": [
       "array([0.97514556, 0.97479795, 0.97540627, 0.97627531, 0.97575389])"
      ]
     },
     "execution_count": 19,
     "metadata": {},
     "output_type": "execute_result"
    },
    {
     "data": {
      "image/png": "[encoded data removed]",
      "text/plain": [
       "<Figure size 504x216 with 1 Axes>"
      ]
     },
     "metadata": {
      "needs_background": "light"
     },
     "output_type": "display_data"
    }
   ],
   "source": [
    "#Validación cruzada (gráfico y datos)\n",
    "graficar_Accu_scores(class_svm,X_train,y_train,X_test,y_test,nparts=5,jobs=2)"
   ]
  },
  {
   "cell_type": "code",
   "execution_count": 15,
   "metadata": {},
   "outputs": [
    {
     "data": {
      "text/plain": [
       "SVC(probability=True, random_state=123)"
      ]
     },
     "execution_count": 15,
     "metadata": {},
     "output_type": "execute_result"
    }
   ],
   "source": [
    "# Fitting SVM to the Training set using Kernel as rbf.\n",
    "from sklearn.svm import SVC\n",
    "class_svm = SVC(kernel='rbf',probability=True,random_state=123)\n",
    "class_svm.fit(X_train, y_train)"
   ]
  },
  {
   "cell_type": "code",
   "execution_count": 16,
   "metadata": {},
   "outputs": [],
   "source": [
    "# Predecir los resultados\n",
    "y_pred_svm = class_svm.predict(X_test)"
   ]
  },
  {
   "cell_type": "code",
   "execution_count": 17,
   "metadata": {},
   "outputs": [
    {
     "data": {
      "text/plain": [
       "array([[19249,     0],\n",
       "       [  317,  6858]], dtype=int64)"
      ]
     },
     "execution_count": 17,
     "metadata": {},
     "output_type": "execute_result"
    }
   ],
   "source": [
    "# Matriz de confusión\n",
    "from sklearn.metrics import confusion_matrix\n",
    "cm_svm = confusion_matrix(y_test, y_pred_svm)\n",
    "cm_svm # display"
   ]
  },
  {
   "cell_type": "code",
   "execution_count": 20,
   "metadata": {},
   "outputs": [
    {
     "data": {
      "image/png": "[encoded data removed]",
      "text/plain": [
       "<Figure size 432x288 with 1 Axes>"
      ]
     },
     "metadata": {
      "needs_background": "light"
     },
     "output_type": "display_data"
    }
   ],
   "source": [
    "#Curvas ROC\n",
    "import sklearn.metrics as metrics\n",
    "# calcular fpr y tpr para todos los thresholds de la clasificación\n",
    "probs = class_svm.predict_proba(X_test)\n",
    "preds = probs[:,1]\n",
    "fpr, tpr, threshold = metrics.roc_curve(y_test, preds)\n",
    "roc_auc = metrics.auc(fpr, tpr)\n",
    "\n",
    "# method I: plt\n",
    "import matplotlib.pyplot as plt\n",
    "plt.title('Receiver Operating Characteristic')\n",
    "plt.plot(fpr, tpr, 'b', label = 'AUC = %0.4f' % roc_auc)\n",
    "plt.legend(loc = 'lower right')\n",
    "plt.plot([0, 1], [0, 1],'r--')\n",
    "plt.xlim([0, 1])\n",
    "plt.ylim([0, 1])\n",
    "plt.ylabel('True Positive Rate')\n",
    "plt.xlabel('False Positive Rate')\n",
    "plt.show()"
   ]
  },
  {
   "cell_type": "markdown",
   "metadata": {},
   "source": [
    "## Ajustar el clasificador NAIVE BAYES en el Conjunto de Entrenamiento"
   ]
  },
  {
   "cell_type": "code",
   "execution_count": 24,
   "metadata": {},
   "outputs": [
    {
     "name": "stdout",
     "output_type": "stream",
     "text": [
      "Scores for each fold are: [0.99469888 0.99469888 0.99565482 0.99469888 0.9951334 ]\n",
      "Average score: 0.9950\n"
     ]
    }
   ],
   "source": [
    "#validación cruzada (datos)\n",
    "from sklearn.model_selection import KFold, cross_val_score\n",
    "from sklearn.naive_bayes import GaussianNB\n",
    "kf =KFold(n_splits=5, shuffle=True, random_state=42)\n",
    "score = cross_val_score(GaussianNB(), X_train, y_train, cv= kf, scoring=\"accuracy\")\n",
    "print(f'Scores for each fold are: {score}')\n",
    "print(f'Average score: {\"{:.4f}\".format(score.mean())}')"
   ]
  },
  {
   "cell_type": "code",
   "execution_count": 25,
   "metadata": {},
   "outputs": [
    {
     "data": {
      "text/plain": [
       "array([0.99469888, 0.99469888, 0.99565482, 0.99469888, 0.9951334 ])"
      ]
     },
     "execution_count": 25,
     "metadata": {},
     "output_type": "execute_result"
    },
    {
     "data": {
      "image/png": "[encoded data removed]",
      "text/plain": [
       "<Figure size 504x216 with 1 Axes>"
      ]
     },
     "metadata": {
      "needs_background": "light"
     },
     "output_type": "display_data"
    }
   ],
   "source": [
    "#Validación cruzada\n",
    "graficar_Accu_scores(class_nb,X_train,y_train,X_test,y_test,nparts=5,jobs=2)"
   ]
  },
  {
   "cell_type": "code",
   "execution_count": 21,
   "metadata": {},
   "outputs": [
    {
     "data": {
      "text/plain": [
       "GaussianNB()"
      ]
     },
     "execution_count": 21,
     "metadata": {},
     "output_type": "execute_result"
    }
   ],
   "source": [
    "from sklearn.naive_bayes import GaussianNB\n",
    "class_nb = GaussianNB()\n",
    "class_nb.fit(X_train, y_train)"
   ]
  },
  {
   "cell_type": "code",
   "execution_count": 22,
   "metadata": {},
   "outputs": [],
   "source": [
    "# Predecir los resultados\n",
    "y_pred_nb  = class_nb.predict(X_test)"
   ]
  },
  {
   "cell_type": "code",
   "execution_count": 23,
   "metadata": {},
   "outputs": [
    {
     "data": {
      "text/plain": [
       "array([[  142, 19107],\n",
       "       [    0,  7175]], dtype=int64)"
      ]
     },
     "execution_count": 23,
     "metadata": {},
     "output_type": "execute_result"
    }
   ],
   "source": [
    "# Matriz de confusión\n",
    "from sklearn.metrics import confusion_matrix\n",
    "cm_nb = confusion_matrix(y_test, y_pred_nb)\n",
    "cm_nb # display"
   ]
  },
  {
   "cell_type": "code",
   "execution_count": 26,
   "metadata": {},
   "outputs": [
    {
     "data": {
      "image/png": "[encoded data removed]",
      "text/plain": [
       "<Figure size 432x288 with 1 Axes>"
      ]
     },
     "metadata": {
      "needs_background": "light"
     },
     "output_type": "display_data"
    }
   ],
   "source": [
    "#Curvas ROC\n",
    "import sklearn.metrics as metrics\n",
    "# calcular fpr y tpr para todos los thresholds de la clasificación\n",
    "probs = class_nb.predict_proba(X_test)\n",
    "preds = probs[:,1]\n",
    "fpr, tpr, threshold = metrics.roc_curve(y_test, preds)\n",
    "roc_auc1 = metrics.auc(fpr, tpr)\n",
    "\n",
    "# method I: plt\n",
    "import matplotlib.pyplot as plt\n",
    "plt.title('Receiver Operating Characteristic')\n",
    "plt.plot(fpr, tpr, 'b', label = 'AUC = %0.4f' % roc_auc1)\n",
    "plt.legend(loc = 'lower right')\n",
    "plt.plot([0, 1], [0, 1],'r--')\n",
    "plt.xlim([0, 1])\n",
    "plt.ylim([0, 1])\n",
    "plt.ylabel('True Positive Rate')\n",
    "plt.xlabel('False Positive Rate')\n",
    "plt.show()"
   ]
  },
  {
   "cell_type": "markdown",
   "metadata": {},
   "source": [
    "## Ajustar el clasificador REDES NEURONALES en el Conjunto de Entrenamiento"
   ]
  },
  {
   "cell_type": "code",
   "execution_count": 33,
   "metadata": {},
   "outputs": [
    {
     "name": "stderr",
     "output_type": "stream",
     "text": [
      "C:\\Users\\jenny\\AppData\\Local\\Temp/ipykernel_15192/2278733859.py:22: DeprecationWarning: KerasClassifier is deprecated, use Sci-Keras (https://github.com/adriangb/scikeras) instead.\n",
      "  class_RN = KerasClassifier(build_fn=built_class_RN, batch_size = 10, epochs = 100)\n"
     ]
    }
   ],
   "source": [
    "#validación cruzada (datos)\n",
    "import keras\n",
    "from keras.wrappers.scikit_learn import KerasClassifier\n",
    "from keras.models import Sequential\n",
    "from keras.layers import Dense\n",
    "from sklearn.model_selection import KFold, cross_val_score\n",
    "\n",
    "def built_class_RN():\n",
    "    #Inicializar la RNA\n",
    "    class_RN = Sequential()\n",
    "    #Añadir las capas de entrada y primera capa oculta\n",
    "    class_RN.add(Dense(units = 12, kernel_initializer = \"uniform\", activation = \"relu\", input_dim = 23))\n",
    "    #Añadir la segunda capa oculta\n",
    "    class_RN.add(Dense(units = 10, kernel_initializer = \"uniform\",  activation = \"relu\"))\n",
    "    #Añadir la capa de salida\n",
    "    class_RN.add(Dense(units = 1, kernel_initializer = \"uniform\",  activation = \"sigmoid\"))\n",
    "    #Compilar la RNA\n",
    "    class_RN.compile(optimizer = \"adam\", loss = \"binary_crossentropy\", metrics = [\"accuracy\"])\n",
    "    return class_RN\n",
    "\n",
    "#Ajustar la RNA al Conjunto de Entrenamiento\n",
    "class_RN = KerasClassifier(build_fn=built_class_RN, batch_size = 10, epochs = 100)\n",
    "kf =KFold(n_splits=5, shuffle=True, random_state=42)\n",
    "Accuracy = cross_val_score(class_RN, X_train, y_train, cv= kf, n_jobs=-1)\n"
   ]
  },
  {
   "cell_type": "code",
   "execution_count": 34,
   "metadata": {},
   "outputs": [
    {
     "name": "stdout",
     "output_type": "stream",
     "text": [
      "Scores for each fold are: [0.98905015 0.98592162 0.98739898 0.99061441 0.98826802]\n",
      "Average score: 0.9883\n"
     ]
    }
   ],
   "source": [
    "print(f'Scores for each fold are: {Accuracy}')\n",
    "print(f'Average score: {\"{:.4f}\".format(Accuracy.mean())}')"
   ]
  },
  {
   "cell_type": "code",
   "execution_count": 3,
   "metadata": {},
   "outputs": [],
   "source": [
    "import keras\n",
    "from keras.models import Sequential\n",
    "from keras.layers import Dense"
   ]
  },
  {
   "cell_type": "code",
   "execution_count": 9,
   "metadata": {},
   "outputs": [
    {
     "name": "stdout",
     "output_type": "stream",
     "text": [
      "Epoch 1/100\n",
      "5754/5754 [==============================] - 7s 1ms/step - loss: 0.1260 - accuracy: 0.9612\n",
      "Epoch 2/100\n",
      "5754/5754 [==============================] - 7s 1ms/step - loss: 0.0768 - accuracy: 0.9798\n",
      "Epoch 3/100\n",
      "5754/5754 [==============================] - 7s 1ms/step - loss: 0.0716 - accuracy: 0.9822\n",
      "Epoch 4/100\n",
      "5754/5754 [==============================] - 8s 1ms/step - loss: 0.0686 - accuracy: 0.9830\n",
      "Epoch 5/100\n",
      "5754/5754 [==============================] - 7s 1ms/step - loss: 0.0676 - accuracy: 0.9836\n",
      "Epoch 6/100\n",
      "5754/5754 [==============================] - 7s 1ms/step - loss: 0.0660 - accuracy: 0.9839: 0s - loss: 0.0659 \n",
      "Epoch 7/100\n",
      "5754/5754 [==============================] - 7s 1ms/step - loss: 0.0647 - accuracy: 0.9844\n",
      "Epoch 8/100\n",
      "5754/5754 [==============================] - 7s 1ms/step - loss: 0.0642 - accuracy: 0.9842\n",
      "Epoch 9/100\n",
      "5754/5754 [==============================] - 7s 1ms/step - loss: 0.0651 - accuracy: 0.9842\n",
      "Epoch 10/100\n",
      "5754/5754 [==============================] - 7s 1ms/step - loss: 0.0630 - accuracy: 0.9848\n",
      "Epoch 11/100\n",
      "5754/5754 [==============================] - 7s 1ms/step - loss: 0.0626 - accuracy: 0.9846\n",
      "Epoch 12/100\n",
      "5754/5754 [==============================] - 7s 1ms/step - loss: 0.0628 - accuracy: 0.9848\n",
      "Epoch 13/100\n",
      "5754/5754 [==============================] - 7s 1ms/step - loss: 0.0621 - accuracy: 0.9851\n",
      "Epoch 14/100\n",
      "5754/5754 [==============================] - 7s 1ms/step - loss: 0.0620 - accuracy: 0.9853\n",
      "Epoch 15/100\n",
      "5754/5754 [==============================] - 7s 1ms/step - loss: 0.0611 - accuracy: 0.9854\n",
      "Epoch 16/100\n",
      "5754/5754 [==============================] - 7s 1ms/step - loss: 0.0609 - accuracy: 0.9852\n",
      "Epoch 17/100\n",
      "5754/5754 [==============================] - 7s 1ms/step - loss: 0.0613 - accuracy: 0.9854\n",
      "Epoch 18/100\n",
      "5754/5754 [==============================] - 7s 1ms/step - loss: 0.0606 - accuracy: 0.9854\n",
      "Epoch 19/100\n",
      "5754/5754 [==============================] - 7s 1ms/step - loss: 0.0599 - accuracy: 0.9859\n",
      "Epoch 20/100\n",
      "5754/5754 [==============================] - 7s 1ms/step - loss: 0.0602 - accuracy: 0.9856\n",
      "Epoch 21/100\n",
      "5754/5754 [==============================] - 7s 1ms/step - loss: 0.0604 - accuracy: 0.9856\n",
      "Epoch 22/100\n",
      "5754/5754 [==============================] - 7s 1ms/step - loss: 0.0596 - accuracy: 0.9856\n",
      "Epoch 23/100\n",
      "5754/5754 [==============================] - 7s 1ms/step - loss: 0.0586 - accuracy: 0.9860\n",
      "Epoch 24/100\n",
      "5754/5754 [==============================] - 7s 1ms/step - loss: 0.0587 - accuracy: 0.9860\n",
      "Epoch 25/100\n",
      "5754/5754 [==============================] - 7s 1ms/step - loss: 0.0585 - accuracy: 0.9860\n",
      "Epoch 26/100\n",
      "5754/5754 [==============================] - 7s 1ms/step - loss: 0.0591 - accuracy: 0.9861\n",
      "Epoch 27/100\n",
      "5754/5754 [==============================] - 7s 1ms/step - loss: 0.0589 - accuracy: 0.9859\n",
      "Epoch 28/100\n",
      "5754/5754 [==============================] - 7s 1ms/step - loss: 0.0583 - accuracy: 0.9860\n",
      "Epoch 29/100\n",
      "5754/5754 [==============================] - 7s 1ms/step - loss: 0.0574 - accuracy: 0.9863\n",
      "Epoch 30/100\n",
      "5754/5754 [==============================] - 6s 1ms/step - loss: 0.0583 - accuracy: 0.9859\n",
      "Epoch 31/100\n",
      "5754/5754 [==============================] - 7s 1ms/step - loss: 0.0576 - accuracy: 0.9862\n",
      "Epoch 32/100\n",
      "5754/5754 [==============================] - 7s 1ms/step - loss: 0.0567 - accuracy: 0.9864: 0s - loss: 0.056\n",
      "Epoch 33/100\n",
      "5754/5754 [==============================] - 7s 1ms/step - loss: 0.0574 - accuracy: 0.9863\n",
      "Epoch 34/100\n",
      "5754/5754 [==============================] - 7s 1ms/step - loss: 0.0572 - accuracy: 0.9863\n",
      "Epoch 35/100\n",
      "5754/5754 [==============================] - 7s 1ms/step - loss: 0.0563 - accuracy: 0.9864\n",
      "Epoch 36/100\n",
      "5754/5754 [==============================] - 7s 1ms/step - loss: 0.0563 - accuracy: 0.9865\n",
      "Epoch 37/100\n",
      "5754/5754 [==============================] - 7s 1ms/step - loss: 0.0557 - accuracy: 0.9867\n",
      "Epoch 38/100\n",
      "5754/5754 [==============================] - 7s 1ms/step - loss: 0.0564 - accuracy: 0.9866\n",
      "Epoch 39/100\n",
      "5754/5754 [==============================] - 6s 1ms/step - loss: 0.0556 - accuracy: 0.9865\n",
      "Epoch 40/100\n",
      "5754/5754 [==============================] - 7s 1ms/step - loss: 0.0553 - accuracy: 0.9867\n",
      "Epoch 41/100\n",
      "5754/5754 [==============================] - 8s 1ms/step - loss: 0.0553 - accuracy: 0.9868\n",
      "Epoch 42/100\n",
      "5754/5754 [==============================] - 7s 1ms/step - loss: 0.0555 - accuracy: 0.9868: 0s - loss: 0.0554 - \n",
      "Epoch 43/100\n",
      "5754/5754 [==============================] - 7s 1ms/step - loss: 0.0543 - accuracy: 0.9869\n",
      "Epoch 44/100\n",
      "5754/5754 [==============================] - 7s 1ms/step - loss: 0.0535 - accuracy: 0.9872\n",
      "Epoch 45/100\n",
      "5754/5754 [==============================] - 7s 1ms/step - loss: 0.0545 - accuracy: 0.9871\n",
      "Epoch 46/100\n",
      "5754/5754 [==============================] - 6s 1ms/step - loss: 0.0546 - accuracy: 0.9872\n",
      "Epoch 47/100\n",
      "5754/5754 [==============================] - 6s 1ms/step - loss: 0.0536 - accuracy: 0.9873\n",
      "Epoch 48/100\n",
      "5754/5754 [==============================] - 6s 1ms/step - loss: 0.0543 - accuracy: 0.9871\n",
      "Epoch 49/100\n",
      "5754/5754 [==============================] - 6s 1ms/step - loss: 0.0531 - accuracy: 0.9874\n",
      "Epoch 50/100\n",
      "5754/5754 [==============================] - 7s 1ms/step - loss: 0.0548 - accuracy: 0.9869\n",
      "Epoch 51/100\n",
      "5754/5754 [==============================] - 6s 1ms/step - loss: 0.0537 - accuracy: 0.9875\n",
      "Epoch 52/100\n",
      "5754/5754 [==============================] - 7s 1ms/step - loss: 0.0534 - accuracy: 0.9876\n",
      "Epoch 53/100\n",
      "5754/5754 [==============================] - 7s 1ms/step - loss: 0.0532 - accuracy: 0.9873\n",
      "Epoch 54/100\n",
      "5754/5754 [==============================] - 7s 1ms/step - loss: 0.0524 - accuracy: 0.9874\n",
      "Epoch 55/100\n",
      "5754/5754 [==============================] - 7s 1ms/step - loss: 0.0525 - accuracy: 0.9874\n",
      "Epoch 56/100\n",
      "5754/5754 [==============================] - 7s 1ms/step - loss: 0.0520 - accuracy: 0.9879\n",
      "Epoch 57/100\n",
      "5754/5754 [==============================] - 7s 1ms/step - loss: 0.0528 - accuracy: 0.9875\n",
      "Epoch 58/100\n",
      "5754/5754 [==============================] - 6s 1ms/step - loss: 0.0539 - accuracy: 0.9871\n",
      "Epoch 59/100\n",
      "5754/5754 [==============================] - 6s 1ms/step - loss: 0.0522 - accuracy: 0.9877\n",
      "Epoch 60/100\n",
      "5754/5754 [==============================] - 7s 1ms/step - loss: 0.0529 - accuracy: 0.9870\n",
      "Epoch 61/100\n",
      "5754/5754 [==============================] - 6s 1ms/step - loss: 0.0507 - accuracy: 0.9883\n",
      "Epoch 62/100\n",
      "5754/5754 [==============================] - 7s 1ms/step - loss: 0.0519 - accuracy: 0.9876\n",
      "Epoch 63/100\n",
      "5754/5754 [==============================] - 6s 1ms/step - loss: 0.0524 - accuracy: 0.9875\n",
      "Epoch 64/100\n",
      "5754/5754 [==============================] - 6s 1ms/step - loss: 0.0515 - accuracy: 0.9877\n",
      "Epoch 65/100\n",
      "5754/5754 [==============================] - 6s 1ms/step - loss: 0.0529 - accuracy: 0.9873\n",
      "Epoch 66/100\n",
      "5754/5754 [==============================] - 7s 1ms/step - loss: 0.0514 - accuracy: 0.9878\n",
      "Epoch 67/100\n",
      "5754/5754 [==============================] - 6s 1ms/step - loss: 0.0509 - accuracy: 0.9880\n",
      "Epoch 68/100\n",
      "5754/5754 [==============================] - 7s 1ms/step - loss: 0.0507 - accuracy: 0.9881\n",
      "Epoch 69/100\n",
      "5754/5754 [==============================] - 6s 1ms/step - loss: 0.0505 - accuracy: 0.9880\n",
      "Epoch 70/100\n",
      "5754/5754 [==============================] - 7s 1ms/step - loss: 0.0513 - accuracy: 0.9877\n",
      "Epoch 71/100\n",
      "5754/5754 [==============================] - 7s 1ms/step - loss: 0.0503 - accuracy: 0.9880\n",
      "Epoch 72/100\n",
      "5754/5754 [==============================] - 7s 1ms/step - loss: 0.0504 - accuracy: 0.9880\n",
      "Epoch 73/100\n",
      "5754/5754 [==============================] - 7s 1ms/step - loss: 0.0506 - accuracy: 0.9884\n",
      "Epoch 74/100\n",
      "5754/5754 [==============================] - 7s 1ms/step - loss: 0.0500 - accuracy: 0.9881\n",
      "Epoch 75/100\n",
      "5754/5754 [==============================] - 8s 1ms/step - loss: 0.0503 - accuracy: 0.9880\n",
      "Epoch 76/100\n",
      "5754/5754 [==============================] - 7s 1ms/step - loss: 0.0502 - accuracy: 0.9881\n",
      "Epoch 77/100\n",
      "5754/5754 [==============================] - 6s 1ms/step - loss: 0.0506 - accuracy: 0.9880\n",
      "Epoch 78/100\n",
      "5754/5754 [==============================] - 8s 1ms/step - loss: 0.0494 - accuracy: 0.9883\n",
      "Epoch 79/100\n",
      "5754/5754 [==============================] - 7s 1ms/step - loss: 0.0501 - accuracy: 0.9880\n",
      "Epoch 80/100\n",
      "5754/5754 [==============================] - 8s 1ms/step - loss: 0.0493 - accuracy: 0.9886: 0s - loss: 0.0493 - accura\n",
      "Epoch 81/100\n",
      "5754/5754 [==============================] - 7s 1ms/step - loss: 0.0501 - accuracy: 0.9880\n",
      "Epoch 82/100\n",
      "5754/5754 [==============================] - 6s 1ms/step - loss: 0.0494 - accuracy: 0.9883\n",
      "Epoch 83/100\n",
      "5754/5754 [==============================] - 7s 1ms/step - loss: 0.0490 - accuracy: 0.9885\n",
      "Epoch 84/100\n",
      "5754/5754 [==============================] - 8s 1ms/step - loss: 0.0487 - accuracy: 0.9885\n",
      "Epoch 85/100\n",
      "5754/5754 [==============================] - 7s 1ms/step - loss: 0.0493 - accuracy: 0.9884\n",
      "Epoch 86/100\n",
      "5754/5754 [==============================] - 7s 1ms/step - loss: 0.0493 - accuracy: 0.9883\n",
      "Epoch 87/100\n",
      "5754/5754 [==============================] - 7s 1ms/step - loss: 0.0479 - accuracy: 0.9887\n",
      "Epoch 88/100\n",
      "5754/5754 [==============================] - 7s 1ms/step - loss: 0.0486 - accuracy: 0.9886\n",
      "Epoch 89/100\n",
      "5754/5754 [==============================] - 6s 1ms/step - loss: 0.0487 - accuracy: 0.9884\n",
      "Epoch 90/100\n",
      "5754/5754 [==============================] - 7s 1ms/step - loss: 0.0474 - accuracy: 0.9888\n",
      "Epoch 91/100\n",
      "5754/5754 [==============================] - 6s 1ms/step - loss: 0.0489 - accuracy: 0.9885\n",
      "Epoch 92/100\n",
      "5754/5754 [==============================] - 7s 1ms/step - loss: 0.0501 - accuracy: 0.9881\n",
      "Epoch 93/100\n",
      "5754/5754 [==============================] - 7s 1ms/step - loss: 0.0495 - accuracy: 0.9885\n",
      "Epoch 94/100\n",
      "5754/5754 [==============================] - 7s 1ms/step - loss: 0.0478 - accuracy: 0.9887\n",
      "Epoch 95/100\n",
      "5754/5754 [==============================] - 7s 1ms/step - loss: 0.0482 - accuracy: 0.9887\n",
      "Epoch 96/100\n",
      "5754/5754 [==============================] - 7s 1ms/step - loss: 0.0487 - accuracy: 0.9887\n",
      "Epoch 97/100\n",
      "5754/5754 [==============================] - 7s 1ms/step - loss: 0.0477 - accuracy: 0.9886\n",
      "Epoch 98/100\n",
      "5754/5754 [==============================] - 7s 1ms/step - loss: 0.0482 - accuracy: 0.9887\n",
      "Epoch 99/100\n",
      "5754/5754 [==============================] - 7s 1ms/step - loss: 0.0467 - accuracy: 0.9892\n",
      "Epoch 100/100\n",
      "5754/5754 [==============================] - 7s 1ms/step - loss: 0.0473 - accuracy: 0.9889\n"
     ]
    },
    {
     "data": {
      "text/plain": [
       "<keras.callbacks.History at 0x1e544d87bb0>"
      ]
     },
     "execution_count": 9,
     "metadata": {},
     "output_type": "execute_result"
    }
   ],
   "source": [
    "#Inicializar la RNA\n",
    "class_RN = Sequential()\n",
    "#Añadir las capas de entrada y primera capa oculta\n",
    "class_RN.add(Dense(units = 12, kernel_initializer = \"uniform\",  \n",
    "                     activation = \"relu\", input_dim = 23))\n",
    "#Añadir la segunda capa oculta\n",
    "class_RN.add(Dense(units = 10, kernel_initializer = \"uniform\",  activation = \"relu\"))\n",
    "#Añadir la capa de salida\n",
    "class_RN.add(Dense(units = 1, kernel_initializer = \"uniform\",  activation = \"sigmoid\"))\n",
    "#Compilar la RNA\n",
    "class_RN.compile(optimizer = \"adam\", loss = \"binary_crossentropy\", metrics = [\"accuracy\"])\n",
    "#Ajustar la RNA al Conjunto de Entrenamiento\n",
    "class_RN.fit(X_train, y_train,  batch_size = 10, epochs = 100)"
   ]
  },
  {
   "cell_type": "code",
   "execution_count": 10,
   "metadata": {},
   "outputs": [
    {
     "name": "stdout",
     "output_type": "stream",
     "text": [
      "826/826 - 1s - loss: 0.0391 - accuracy: 0.9936 - 676ms/epoch - 819us/step\n",
      "\n",
      "Test Accuracy: 0.9936421513557434\n"
     ]
    }
   ],
   "source": [
    "test_loss, test_acc = class_RN.evaluate(X_test,  y_test, verbose=2)\n",
    "print('\\nTest Accuracy:', test_acc)"
   ]
  },
  {
   "cell_type": "code",
   "execution_count": 11,
   "metadata": {},
   "outputs": [],
   "source": [
    "# Evaluar el modelo y calcular predicciones finales\n",
    "# Predicción de los resultados con el Conjunto de Testing\n",
    "y_pred_rn  = class_RN.predict(X_test)\n",
    "y_pred_rn = (y_pred_rn>0.5)\n"
   ]
  },
  {
   "cell_type": "code",
   "execution_count": 12,
   "metadata": {},
   "outputs": [
    {
     "data": {
      "text/plain": [
       "array([[19196,    53],\n",
       "       [  115,  7060]], dtype=int64)"
      ]
     },
     "execution_count": 12,
     "metadata": {},
     "output_type": "execute_result"
    }
   ],
   "source": [
    "#Elaborar una matriz de confusión\n",
    "from sklearn.metrics import confusion_matrix\n",
    "cm_rn = confusion_matrix(y_test, y_pred_rn)\n",
    "cm_rn"
   ]
  },
  {
   "cell_type": "code",
   "execution_count": 14,
   "metadata": {},
   "outputs": [
    {
     "data": {
      "image/png": "[encoded data removed]",
      "text/plain": [
       "<Figure size 432x288 with 1 Axes>"
      ]
     },
     "metadata": {
      "needs_background": "light"
     },
     "output_type": "display_data"
    }
   ],
   "source": [
    "#Curva ROC\n",
    "from sklearn.metrics import roc_curve, auc\n",
    "import matplotlib.pyplot as plt\n",
    "y_pred_rn_curv = class_RN.predict(X_test).ravel()\n",
    "\n",
    "nn_fpr_keras, nn_tpr_keras, nn_thresholds_keras = roc_curve(y_test, y_pred_rn_curv)\n",
    "auc_keras = auc(nn_fpr_keras, nn_tpr_keras)\n",
    "# method I: plt\n",
    "import matplotlib.pyplot as plt\n",
    "plt.title('Receiver Operating Characteristic')\n",
    "plt.plot(nn_fpr_keras, nn_tpr_keras, 'b', label = 'AUC = %0.4f' % auc_keras)\n",
    "plt.legend(loc = 'lower right')\n",
    "plt.plot([0, 1], [0, 1],'r--')\n",
    "plt.xlim([0, 1])\n",
    "plt.ylim([0, 1])\n",
    "plt.ylabel('True Positive Rate')\n",
    "plt.xlabel('False Positive Rate')\n",
    "plt.show()"
   ]
  }
 ],
 "metadata": {
  "colab": {
   "authorship_tag": "ABX9TyMJUn2/uS+2CUlTfIt4QIIg",
   "collapsed_sections": [],
   "name": "Copia de Modelos.ipynb",
   "provenance": [
    {
     "file_id": "10nHoFKKtgfxuqIONQnIkGNzknNDbXQgz",
     "timestamp": 1639278306948
    }
   ]
  },
  "kernelspec": {
   "display_name": "Python 3 (ipykernel)",
   "language": "python",
   "name": "python3"
  },
  "language_info": {
   "codemirror_mode": {
    "name": "ipython",
    "version": 3
   },
   "file_extension": ".py",
   "mimetype": "text/x-python",
   "name": "python",
   "nbconvert_exporter": "python",
   "pygments_lexer": "ipython3",
   "version": "3.9.7"
  }
 },
 "nbformat": 4,
 "nbformat_minor": 1
}
